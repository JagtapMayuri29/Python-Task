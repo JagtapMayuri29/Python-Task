{
 "cells": [
  {
   "cell_type": "markdown",
   "id": "ce3a6a10-7eba-47e2-9a44-e9121daee4c7",
   "metadata": {},
   "source": [
    "## Task 7 Dictionary\n",
    "### Q.1]Define Dictionary, its properties and examples for each method.\n",
    "1. Dictionaries are used to store data values in key:value pairs.\n",
    "2. A dictionary is a collection which is ordered, changeable and do not allow duplicates.\n",
    "\n",
    "**Properties**\n",
    "1. ordered - means that the items do not have a defined order, you cannot refer to an item by using an index.\n",
    "2. Changeable - Dictionaries are changeable means we can change ,add and delete items after dictionaries has been created.\n",
    "3. Duplicate - Dictionaries cannot have items with same keys "
   ]
  },
  {
   "cell_type": "code",
   "execution_count": 66,
   "id": "7941a02e-e5c4-4080-a343-71517301c78a",
   "metadata": {},
   "outputs": [
    {
     "name": "stdout",
     "output_type": "stream",
     "text": [
      "{'K1': (2, 3, 4), 'K2': [2, 3, 4]}\n",
      "{'K1': (2, 4, 5), 'K2': [4, 5, 6]}\n"
     ]
    }
   ],
   "source": [
    "D = {'K1':(2,3,4),'K2':[2,3,4]}\n",
    "D1 = {'K1':(2,4,5),'K2':[4,5,6]}\n",
    "print(D)\n",
    "print(D1)"
   ]
  },
  {
   "cell_type": "code",
   "execution_count": 80,
   "id": "1c5a09e3-302f-4956-afaf-3ed0ba98fbe6",
   "metadata": {},
   "outputs": [
    {
     "ename": "TypeError",
     "evalue": "unsupported operand type(s) for +: 'dict' and 'dict'",
     "output_type": "error",
     "traceback": [
      "\u001b[1;31m---------------------------------------------------------------------------\u001b[0m",
      "\u001b[1;31mTypeError\u001b[0m                                 Traceback (most recent call last)",
      "Cell \u001b[1;32mIn[80], line 2\u001b[0m\n\u001b[0;32m      1\u001b[0m \u001b[38;5;66;03m#Dictionaries can not be concated\u001b[39;00m\n\u001b[1;32m----> 2\u001b[0m D \u001b[38;5;241m+\u001b[39m D1\n",
      "\u001b[1;31mTypeError\u001b[0m: unsupported operand type(s) for +: 'dict' and 'dict'"
     ]
    }
   ],
   "source": [
    "#Dictionaries can not be concated\n",
    "D + D1"
   ]
  },
  {
   "cell_type": "code",
   "execution_count": 82,
   "id": "7ae3765d-0ba4-41e5-b22c-cba51a5d816c",
   "metadata": {},
   "outputs": [
    {
     "data": {
      "text/plain": [
       "(2, 3, 4, 2, 4, 5)"
      ]
     },
     "execution_count": 82,
     "metadata": {},
     "output_type": "execute_result"
    }
   ],
   "source": [
    "#Dictionaries keys can be concated following the respective rule of concatenation A]for data structures\n",
    "#tuple + Tuple\n",
    "D['K1'] + D1['K1']"
   ]
  },
  {
   "cell_type": "code",
   "execution_count": 84,
   "id": "f859ad62-ac35-42db-82a5-efffa9795696",
   "metadata": {},
   "outputs": [
    {
     "ename": "TypeError",
     "evalue": "can only concatenate tuple (not \"list\") to tuple",
     "output_type": "error",
     "traceback": [
      "\u001b[1;31m---------------------------------------------------------------------------\u001b[0m",
      "\u001b[1;31mTypeError\u001b[0m                                 Traceback (most recent call last)",
      "Cell \u001b[1;32mIn[84], line 2\u001b[0m\n\u001b[0;32m      1\u001b[0m \u001b[38;5;66;03m#tuple + list = not possible\u001b[39;00m\n\u001b[1;32m----> 2\u001b[0m D[\u001b[38;5;124m'\u001b[39m\u001b[38;5;124mK1\u001b[39m\u001b[38;5;124m'\u001b[39m] \u001b[38;5;241m+\u001b[39m D1[\u001b[38;5;124m'\u001b[39m\u001b[38;5;124mK2\u001b[39m\u001b[38;5;124m'\u001b[39m]\n",
      "\u001b[1;31mTypeError\u001b[0m: can only concatenate tuple (not \"list\") to tuple"
     ]
    }
   ],
   "source": [
    "#tuple + list = not possible\n",
    "D['K1'] + D1['K2']"
   ]
  },
  {
   "cell_type": "code",
   "execution_count": 86,
   "id": "ac241a29-d233-4a6c-9c0f-ccb02e2e041f",
   "metadata": {},
   "outputs": [
    {
     "ename": "TypeError",
     "evalue": "unsupported operand type(s) for *: 'dict' and 'dict'",
     "output_type": "error",
     "traceback": [
      "\u001b[1;31m---------------------------------------------------------------------------\u001b[0m",
      "\u001b[1;31mTypeError\u001b[0m                                 Traceback (most recent call last)",
      "Cell \u001b[1;32mIn[86], line 2\u001b[0m\n\u001b[0;32m      1\u001b[0m \u001b[38;5;66;03m#Dictionary Multiplication Not possible\u001b[39;00m\n\u001b[1;32m----> 2\u001b[0m D \u001b[38;5;241m*\u001b[39m D1\n",
      "\u001b[1;31mTypeError\u001b[0m: unsupported operand type(s) for *: 'dict' and 'dict'"
     ]
    }
   ],
   "source": [
    "#Dictionary Multiplication Not possible\n",
    "D * D1"
   ]
  },
  {
   "cell_type": "code",
   "execution_count": 88,
   "id": "58411a28-f9a0-4c98-aa70-445e1f7313bb",
   "metadata": {},
   "outputs": [
    {
     "data": {
      "text/plain": [
       "(2, 3, 4, 2, 3, 4, 2, 3, 4)"
      ]
     },
     "execution_count": 88,
     "metadata": {},
     "output_type": "execute_result"
    }
   ],
   "source": [
    "# Multiplication action can be possible with keys value data structure\n",
    "D['K1'] * 3"
   ]
  },
  {
   "cell_type": "code",
   "execution_count": 90,
   "id": "c74a9238-6a96-48e7-b426-234940455ce3",
   "metadata": {},
   "outputs": [
    {
     "data": {
      "text/plain": [
       "{'K1': (2, 3, 4), 'K2': [2, 3, 4]}"
      ]
     },
     "execution_count": 90,
     "metadata": {},
     "output_type": "execute_result"
    }
   ],
   "source": [
    "#At any point of program we can add new key and values in dictionary using assignment action\n",
    "D = {'K1':(2,3,4),'K2':[2,3,4]}\n",
    "D"
   ]
  },
  {
   "cell_type": "code",
   "execution_count": 92,
   "id": "762d9df2-7e62-4575-a4cb-2831db3309a4",
   "metadata": {},
   "outputs": [
    {
     "data": {
      "text/plain": [
       "{'K1': (2, 3, 4), 'K2': [2, 3, 4], 'K3': [4, 5, 6]}"
      ]
     },
     "execution_count": 92,
     "metadata": {},
     "output_type": "execute_result"
    }
   ],
   "source": [
    "D['K3'] = [4,5,6]\n",
    "D"
   ]
  },
  {
   "cell_type": "code",
   "execution_count": 94,
   "id": "86b8a42a-3993-4ce7-91bb-e28a0ddbd34b",
   "metadata": {},
   "outputs": [
    {
     "data": {
      "text/plain": [
       "{'K1': (2, 3, 4), 'K2': [2, 3, 4], 'K3': [4, 5, 6]}"
      ]
     },
     "execution_count": 94,
     "metadata": {},
     "output_type": "execute_result"
    }
   ],
   "source": [
    "#Duplicate - Dictionaries cannot have items with same keys \n",
    "D = {'K1': (2, 3, 4), 'K2': [2, 3, 4], 'K3': [4, 5, 6]}\n",
    "D"
   ]
  },
  {
   "cell_type": "code",
   "execution_count": 96,
   "id": "dda96d6f-f9b7-4390-9e6b-59c28ee00cfb",
   "metadata": {},
   "outputs": [
    {
     "data": {
      "text/plain": [
       "{'K1': (2, 3, 4), 'K2': [2, 3, 4], 'K3': [4, 5, 6]}"
      ]
     },
     "execution_count": 96,
     "metadata": {},
     "output_type": "execute_result"
    }
   ],
   "source": [
    "D = {'K1': (2, 3, 4), 'K2': [3, 3, 4], 'K2': [2, 3, 4],'K3': [4, 5, 6]}\n",
    "D"
   ]
  },
  {
   "cell_type": "markdown",
   "id": "135fcaf4-500d-4034-a3e6-0206a4e29745",
   "metadata": {},
   "source": [
    "### Q.2]Explore all the methods in the dictionary and write example for each method"
   ]
  },
  {
   "cell_type": "code",
   "execution_count": 98,
   "id": "67661399-bfea-4477-b8ff-a3e71031a439",
   "metadata": {},
   "outputs": [
    {
     "data": {
      "text/plain": [
       "{'K1': (2, 3, 4), 'K2': [2, 3, 4], 'K3': [4, 5, 6]}"
      ]
     },
     "execution_count": 98,
     "metadata": {},
     "output_type": "execute_result"
    }
   ],
   "source": [
    "D = {'K1': (2, 3, 4), 'K2': [2, 3, 4], 'K3': [4, 5, 6]}\n",
    "D"
   ]
  },
  {
   "cell_type": "code",
   "execution_count": 100,
   "id": "bc94ab2f-ffcd-4725-9ae7-194700e399b9",
   "metadata": {},
   "outputs": [
    {
     "data": {
      "text/plain": [
       "['__class__',\n",
       " '__class_getitem__',\n",
       " '__contains__',\n",
       " '__delattr__',\n",
       " '__delitem__',\n",
       " '__dir__',\n",
       " '__doc__',\n",
       " '__eq__',\n",
       " '__format__',\n",
       " '__ge__',\n",
       " '__getattribute__',\n",
       " '__getitem__',\n",
       " '__getstate__',\n",
       " '__gt__',\n",
       " '__hash__',\n",
       " '__init__',\n",
       " '__init_subclass__',\n",
       " '__ior__',\n",
       " '__iter__',\n",
       " '__le__',\n",
       " '__len__',\n",
       " '__lt__',\n",
       " '__ne__',\n",
       " '__new__',\n",
       " '__or__',\n",
       " '__reduce__',\n",
       " '__reduce_ex__',\n",
       " '__repr__',\n",
       " '__reversed__',\n",
       " '__ror__',\n",
       " '__setattr__',\n",
       " '__setitem__',\n",
       " '__sizeof__',\n",
       " '__str__',\n",
       " '__subclasshook__',\n",
       " 'clear',\n",
       " 'copy',\n",
       " 'fromkeys',\n",
       " 'get',\n",
       " 'items',\n",
       " 'keys',\n",
       " 'pop',\n",
       " 'popitem',\n",
       " 'setdefault',\n",
       " 'update',\n",
       " 'values']"
      ]
     },
     "execution_count": 100,
     "metadata": {},
     "output_type": "execute_result"
    }
   ],
   "source": [
    "dir(D)"
   ]
  },
  {
   "cell_type": "code",
   "execution_count": 102,
   "id": "8e792f0d-9c6d-45eb-8c2f-a16827081025",
   "metadata": {},
   "outputs": [
    {
     "data": {
      "text/plain": [
       "{'K1': (2, 3, 4), 'K2': [2, 3, 4], 'K3': [4, 5, 6]}"
      ]
     },
     "execution_count": 102,
     "metadata": {},
     "output_type": "execute_result"
    }
   ],
   "source": [
    "D = {'K1': (2, 3, 4), 'K2': [3, 3, 4], 'K2': [2, 3, 4],'K3': [4, 5, 6]}\n",
    "D"
   ]
  },
  {
   "cell_type": "markdown",
   "id": "904ec9dc-bbd5-4868-b5c6-9a2c2849df67",
   "metadata": {},
   "source": [
    "**Methods**"
   ]
  },
  {
   "cell_type": "code",
   "execution_count": 104,
   "id": "46b6a411-15b0-4898-860d-1b72e060eeaa",
   "metadata": {},
   "outputs": [
    {
     "data": {
      "text/plain": [
       "dict_keys(['K1', 'K2', 'K3'])"
      ]
     },
     "execution_count": 104,
     "metadata": {},
     "output_type": "execute_result"
    }
   ],
   "source": [
    "#keys\n",
    "D.keys()"
   ]
  },
  {
   "cell_type": "code",
   "execution_count": 106,
   "id": "9c5be25f-e53a-400e-89eb-fdf5864016de",
   "metadata": {},
   "outputs": [
    {
     "data": {
      "text/plain": [
       "dict_values([(2, 3, 4), [2, 3, 4], [4, 5, 6]])"
      ]
     },
     "execution_count": 106,
     "metadata": {},
     "output_type": "execute_result"
    }
   ],
   "source": [
    "#values\n",
    "D.values()"
   ]
  },
  {
   "cell_type": "code",
   "execution_count": 108,
   "id": "bc72fa1f-b51b-484b-92c8-c87ef4d41e7e",
   "metadata": {},
   "outputs": [
    {
     "data": {
      "text/plain": [
       "dict_items([('K1', (2, 3, 4)), ('K2', [2, 3, 4]), ('K3', [4, 5, 6])])"
      ]
     },
     "execution_count": 108,
     "metadata": {},
     "output_type": "execute_result"
    }
   ],
   "source": [
    "#items\n",
    "D.items()"
   ]
  },
  {
   "cell_type": "code",
   "execution_count": 110,
   "id": "e4fdacce-433b-4537-9c68-98e85986f08d",
   "metadata": {},
   "outputs": [
    {
     "data": {
      "text/plain": [
       "(2, 3, 4)"
      ]
     },
     "execution_count": 110,
     "metadata": {},
     "output_type": "execute_result"
    }
   ],
   "source": [
    "#pop\n",
    "D.pop('K1')"
   ]
  },
  {
   "cell_type": "code",
   "execution_count": 112,
   "id": "7ced4547-0e44-43f4-90f5-49af337dc3d0",
   "metadata": {},
   "outputs": [
    {
     "data": {
      "text/plain": [
       "('K3', [4, 5, 6])"
      ]
     },
     "execution_count": 112,
     "metadata": {},
     "output_type": "execute_result"
    }
   ],
   "source": [
    "#popitem\n",
    "D.popitem()"
   ]
  },
  {
   "cell_type": "code",
   "execution_count": 114,
   "id": "8ccf8c35-a166-4ad7-86e4-f3121516a78c",
   "metadata": {},
   "outputs": [
    {
     "data": {
      "text/plain": [
       "{'K2': [2, 3, 4]}"
      ]
     },
     "execution_count": 114,
     "metadata": {},
     "output_type": "execute_result"
    }
   ],
   "source": [
    "D "
   ]
  },
  {
   "cell_type": "code",
   "execution_count": 116,
   "id": "64222f4d-5e7d-46cd-b63f-6d2e6178360e",
   "metadata": {},
   "outputs": [
    {
     "data": {
      "text/plain": [
       "{'K1': (2, 3, 4), 'K2': [2, 3, 4], 'K3': [4, 5, 6]}"
      ]
     },
     "execution_count": 116,
     "metadata": {},
     "output_type": "execute_result"
    }
   ],
   "source": [
    "#copy\n",
    "D = {'K1': (2, 3, 4), 'K2': [3, 3, 4], 'K2': [2, 3, 4],'K3': [4, 5, 6]}\n",
    "D1 = D.copy()\n",
    "D1"
   ]
  },
  {
   "cell_type": "code",
   "execution_count": 118,
   "id": "88c1dbec-7d5f-4b81-a98b-b4e2df04c5fb",
   "metadata": {},
   "outputs": [
    {
     "data": {
      "text/plain": [
       "{'K1': (2, 3, 4), 'K2': [2, 3, 4], 'K3': [4, 5, 6]}"
      ]
     },
     "execution_count": 118,
     "metadata": {},
     "output_type": "execute_result"
    }
   ],
   "source": [
    "D1"
   ]
  },
  {
   "cell_type": "code",
   "execution_count": 122,
   "id": "58485766-e129-4676-9ea6-f1a8ab1e5d51",
   "metadata": {},
   "outputs": [
    {
     "data": {
      "text/plain": [
       "{}"
      ]
     },
     "execution_count": 122,
     "metadata": {},
     "output_type": "execute_result"
    }
   ],
   "source": [
    "#clear\n",
    "D1.clear()\n",
    "D1"
   ]
  },
  {
   "cell_type": "markdown",
   "id": "1e8efe59-3cd1-473a-b67b-2d4412cca24e",
   "metadata": {},
   "source": [
    "###  Q.3] Create a Python program that defines a dictionary to store information about your favorite book. Include the title, author, publication year, and genre as key-value pairs. Print out the dictionary.and do at least 5 dictionary methods on it."
   ]
  },
  {
   "cell_type": "code",
   "execution_count": 7,
   "id": "f3e06dce-6935-476d-87a4-756d71657f67",
   "metadata": {},
   "outputs": [
    {
     "data": {
      "text/plain": [
       "{'tile': 'The History of Tom Jones',\n",
       " 'author': 'Henry Fielding',\n",
       " 'Pub_Year': 1749,\n",
       " 'genre': 'Mystery'}"
      ]
     },
     "execution_count": 7,
     "metadata": {},
     "output_type": "execute_result"
    }
   ],
   "source": [
    "Dict = {'tile':'The History of Tom Jones','author':'Henry Fielding',\n",
    "   'Pub_Year':1749,'genre':'Mystery'}\n",
    "Dict"
   ]
  },
  {
   "cell_type": "markdown",
   "id": "573d714f-72bd-4edf-83e5-bb9926975967",
   "metadata": {},
   "source": [
    "**Dictionaries Methods** "
   ]
  },
  {
   "cell_type": "code",
   "execution_count": 9,
   "id": "47beb4be-b4ed-4c0a-b28b-ebd342a35da7",
   "metadata": {},
   "outputs": [
    {
     "data": {
      "text/plain": [
       "dict_keys(['tile', 'author', 'Pub_Year', 'genre'])"
      ]
     },
     "execution_count": 9,
     "metadata": {},
     "output_type": "execute_result"
    }
   ],
   "source": [
    "#1.keys \n",
    "Dict.keys()"
   ]
  },
  {
   "cell_type": "code",
   "execution_count": 11,
   "id": "371b6eaa-b876-41fe-95bf-d3526e981ef5",
   "metadata": {},
   "outputs": [
    {
     "data": {
      "text/plain": [
       "dict_values(['The History of Tom Jones', 'Henry Fielding', 1749, 'Mystery'])"
      ]
     },
     "execution_count": 11,
     "metadata": {},
     "output_type": "execute_result"
    }
   ],
   "source": [
    "#2.values\n",
    "Dict.values()"
   ]
  },
  {
   "cell_type": "code",
   "execution_count": 13,
   "id": "d9113892-7483-44a1-8988-9c31ec5e9e39",
   "metadata": {},
   "outputs": [
    {
     "data": {
      "text/plain": [
       "dict_items([('tile', 'The History of Tom Jones'), ('author', 'Henry Fielding'), ('Pub_Year', 1749), ('genre', 'Mystery')])"
      ]
     },
     "execution_count": 13,
     "metadata": {},
     "output_type": "execute_result"
    }
   ],
   "source": [
    "#3.items\n",
    "Dict.items()"
   ]
  },
  {
   "cell_type": "code",
   "execution_count": 15,
   "id": "02aa8b4e-9be9-4e1d-a6cd-e85ce2d04cad",
   "metadata": {},
   "outputs": [
    {
     "data": {
      "text/plain": [
       "'Mystery'"
      ]
     },
     "execution_count": 15,
     "metadata": {},
     "output_type": "execute_result"
    }
   ],
   "source": [
    "# 4.pop\n",
    "Dict.pop('genre')"
   ]
  },
  {
   "cell_type": "code",
   "execution_count": 164,
   "id": "d8e09765-6bc5-4ed1-97fe-a10a2c4851f0",
   "metadata": {},
   "outputs": [
    {
     "data": {
      "text/plain": [
       "{}"
      ]
     },
     "execution_count": 164,
     "metadata": {},
     "output_type": "execute_result"
    }
   ],
   "source": [
    "# 5.clear\n",
    "Dict.clear()\n",
    "Dict"
   ]
  },
  {
   "cell_type": "markdown",
   "id": "dd478c61-8bcf-44c3-83f3-60c87a661d6d",
   "metadata": {},
   "source": [
    "### Q.4]  Write a Python program that simulates a simple dictionary for translating English words to Spanish. Define a dictionary containing a few English words as keys and their corresponding Spanish translations as values. Allow users to enter an English word, and then display its Spanish translation if it exists in the dictionary.(use google for English to Spanish translator)"
   ]
  },
  {
   "cell_type": "code",
   "execution_count": 20,
   "id": "6f208a11-e123-42dd-81ff-a61614f24cee",
   "metadata": {},
   "outputs": [
    {
     "name": "stdin",
     "output_type": "stream",
     "text": [
      "enter the word hello\n"
     ]
    },
    {
     "name": "stdout",
     "output_type": "stream",
     "text": [
      "Hola\n"
     ]
    }
   ],
   "source": [
    "S = {\"hello\": \"Hola\", \"sky\": \"cielo\" , \"bird\": \"pájaro\"}\n",
    "N = input('enter the word')\n",
    "I = S.get(N)\n",
    "print(I)"
   ]
  },
  {
   "cell_type": "markdown",
   "id": "51c5aef4-833f-4243-83b0-1fe84d36769d",
   "metadata": {},
   "source": [
    "### Q.5] Create a Python program that stores the grades of five students in a dictionary. Allow users to input the names of the students and their respective grades. Calculate and display the average grade of the students"
   ]
  },
  {
   "cell_type": "code",
   "execution_count": 24,
   "id": "e67bef6e-8cb3-44cb-b732-9ea2abcbc3ee",
   "metadata": {},
   "outputs": [
    {
     "name": "stdout",
     "output_type": "stream",
     "text": [
      "375\n",
      "75.0\n"
     ]
    }
   ],
   "source": [
    "Dict={\"Mayuri\":70,\"Avdhoot\":90,\"Shreya\":60,\"Shraddha\":70,\"Vaishali\":85}\n",
    "\n",
    "sum=0\n",
    "for i in Dict.values():\n",
    "    sum=sum+i\n",
    "print(sum)\n",
    "\n",
    "average=sum/len(Dict)\n",
    "print(average)\n",
    "    "
   ]
  },
  {
   "cell_type": "markdown",
   "id": "2c60f50f-98ad-496c-ae21-01c7ea3aed33",
   "metadata": {},
   "source": [
    "### Q.6] Build a basic contact list using a dictionary. Initially, the dictionary can be empty. Allow users to add new contacts with names and phone numbers. Users should also be able to search for contacts by name and display their phone numbers(use in operator).\n"
   ]
  },
  {
   "cell_type": "code",
   "execution_count": 33,
   "id": "04d28dfc-3fd5-4d31-851f-ef1f1a0bd9b1",
   "metadata": {},
   "outputs": [
    {
     "name": "stdin",
     "output_type": "stream",
     "text": [
      "enter your name mayuri\n",
      "enter your phone number 810856664\n",
      "enter your name avdut\n",
      "enter your phone number 98745622\n",
      "enter your name mangesh\n",
      "enter your phone number 89965122\n",
      "enter your name akshada\n",
      "enter your phone number 78964522\n"
     ]
    },
    {
     "name": "stdout",
     "output_type": "stream",
     "text": [
      "This is the contact list {'mayuri': 810856664, 'avdut': 98745622, 'mangesh': 89965122, 'akshada': 78964522}\n"
     ]
    }
   ],
   "source": [
    "contact_list = {}\n",
    "for i in range(4):\n",
    "    c_name=input('enter your name')\n",
    "    ph_num=int(input('enter your phone number'))\n",
    "    contact_list[c_name]=ph_num\n",
    "print(\"This is the contact list\",contact_list)"
   ]
  },
  {
   "cell_type": "code",
   "execution_count": 36,
   "id": "7e491035-c409-4985-9a50-cca369351fee",
   "metadata": {},
   "outputs": [
    {
     "name": "stdin",
     "output_type": "stream",
     "text": [
      "enter the name for contacts mayuri\n"
     ]
    },
    {
     "name": "stdout",
     "output_type": "stream",
     "text": [
      "the contact for the number is 810856664\n"
     ]
    }
   ],
   "source": [
    "search=input(\"enter the name for contacts\").lower()\n",
    "if search in contact_list:\n",
    "    print(\"the contact for the number is\",contact_list[search])\n",
    "\n",
    "else:\n",
    "    print(\"no contact found with this name..,enter valid name\")"
   ]
  },
  {
   "cell_type": "markdown",
   "id": "fbfb2bad-2660-47fd-92e3-1889f12cd399",
   "metadata": {},
   "source": [
    "### Q.7] Write a Python program that defines a dictionary containing the names of fruits as keys and their corresponding colors as values (e.g., 'apple': 'red').Do atleast 5 dictionary methods on it."
   ]
  },
  {
   "cell_type": "code",
   "execution_count": 1,
   "id": "d14a9d07-4c07-4707-b6b8-4dd1e5042b50",
   "metadata": {},
   "outputs": [
    {
     "data": {
      "text/plain": [
       "{'Fruits': ['Apples', 'mango', 'Grapes', 'strawberies', 'orange'],\n",
       " 'color': ['red', 'yellow', 'green', 'red', 'orange']}"
      ]
     },
     "execution_count": 1,
     "metadata": {},
     "output_type": "execute_result"
    }
   ],
   "source": [
    "Dict = {'Fruits':['Apples','mango','Grapes','strawberies','orange'],'color':['red','yellow','green','red','orange']}\n",
    "Dict\n"
   ]
  },
  {
   "cell_type": "code",
   "execution_count": 3,
   "id": "ab1933f2-3bbb-4270-b849-4c556f356fcd",
   "metadata": {},
   "outputs": [
    {
     "data": {
      "text/plain": [
       "dict_keys(['Fruits', 'color'])"
      ]
     },
     "execution_count": 3,
     "metadata": {},
     "output_type": "execute_result"
    }
   ],
   "source": [
    "#Methods:\n",
    "#1.Keys\n",
    "Dict.keys()"
   ]
  },
  {
   "cell_type": "code",
   "execution_count": 5,
   "id": "a65173af-f8e5-4904-8c8a-4dd2289c2867",
   "metadata": {},
   "outputs": [
    {
     "data": {
      "text/plain": [
       "dict_values([['Apples', 'mango', 'Grapes', 'strawberies', 'orange'], ['red', 'yellow', 'green', 'red', 'orange']])"
      ]
     },
     "execution_count": 5,
     "metadata": {},
     "output_type": "execute_result"
    }
   ],
   "source": [
    "#2.values\n",
    "Dict.values()"
   ]
  },
  {
   "cell_type": "code",
   "execution_count": 7,
   "id": "b7eaed58-2e7d-48d8-ae0e-4d44a16444e3",
   "metadata": {},
   "outputs": [
    {
     "data": {
      "text/plain": [
       "dict_items([('Fruits', ['Apples', 'mango', 'Grapes', 'strawberies', 'orange']), ('color', ['red', 'yellow', 'green', 'red', 'orange'])])"
      ]
     },
     "execution_count": 7,
     "metadata": {},
     "output_type": "execute_result"
    }
   ],
   "source": [
    "#3.items\n",
    "Dict.items()"
   ]
  },
  {
   "cell_type": "code",
   "execution_count": 11,
   "id": "55610e67-8523-4248-bdc4-aec769b28726",
   "metadata": {},
   "outputs": [
    {
     "data": {
      "text/plain": [
       "['Apples', 'mango', 'Grapes', 'strawberies', 'orange']"
      ]
     },
     "execution_count": 11,
     "metadata": {},
     "output_type": "execute_result"
    }
   ],
   "source": [
    "#4.pop\n",
    "Dict.pop('Fruits')"
   ]
  },
  {
   "cell_type": "code",
   "execution_count": 15,
   "id": "0502a976-0a0e-4ca9-8731-59f42d26a62f",
   "metadata": {},
   "outputs": [
    {
     "data": {
      "text/plain": [
       "{'color': ['red', 'yellow', 'green', 'red', 'orange']}"
      ]
     },
     "execution_count": 15,
     "metadata": {},
     "output_type": "execute_result"
    }
   ],
   "source": [
    "#5.Copy\n",
    "Dict1 = Dict.copy()\n",
    "Dict1"
   ]
  },
  {
   "cell_type": "code",
   "execution_count": null,
   "id": "4f8bd80c-dbbe-4d6a-93f9-cb51ac790aaf",
   "metadata": {},
   "outputs": [],
   "source": []
  }
 ],
 "metadata": {
  "kernelspec": {
   "display_name": "Python [conda env:base] *",
   "language": "python",
   "name": "conda-base-py"
  },
  "language_info": {
   "codemirror_mode": {
    "name": "ipython",
    "version": 3
   },
   "file_extension": ".py",
   "mimetype": "text/x-python",
   "name": "python",
   "nbconvert_exporter": "python",
   "pygments_lexer": "ipython3",
   "version": "3.12.7"
  }
 },
 "nbformat": 4,
 "nbformat_minor": 5
}
