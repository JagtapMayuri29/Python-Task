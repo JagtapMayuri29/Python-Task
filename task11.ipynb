{
 "cells": [
  {
   "cell_type": "markdown",
   "id": "8031b3c0-cad6-41ff-a6f2-99f65c496320",
   "metadata": {},
   "source": [
    "# Write a function called \"count_vowels\" that takes a string as input and returns the number of vowels (a, e, i, o, u) in that string."
   ]
  },
  {
   "cell_type": "code",
   "execution_count": 11,
   "id": "1f41db2c-25fa-4b92-96de-f35a5109f7d7",
   "metadata": {},
   "outputs": [
    {
     "name": "stdout",
     "output_type": "stream",
     "text": [
      "2\n"
     ]
    }
   ],
   "source": [
    "def count_vowels(s):\n",
    "    vows = 'aeiou'\n",
    "    cnt = 0\n",
    "    for ch in s.lower():\n",
    "        if ch in vows:\n",
    "            cnt += 1\n",
    "    return cnt\n",
    "print(count_vowels(\"prashant\"))"
   ]
  },
  {
   "cell_type": "markdown",
   "id": "417746ef-302e-4c46-982f-ba06bbb26775",
   "metadata": {},
   "source": [
    "# Write a Python function to sum all the numbers in a list.(Without using built-in function sum)."
   ]
  },
  {
   "cell_type": "code",
   "execution_count": 13,
   "id": "eab564f4-ec0a-4eb9-812b-607ed61d7ca9",
   "metadata": {},
   "outputs": [
    {
     "name": "stdout",
     "output_type": "stream",
     "text": [
      "10\n"
     ]
    }
   ],
   "source": [
    "def sum_list(lst):\n",
    "    total = 0\n",
    "    for n in lst:\n",
    "        total += n\n",
    "    return total\n",
    "print(sum_list([1, 2, 3, 4])) "
   ]
  },
  {
   "cell_type": "markdown",
   "id": "24ca7bbe-6125-4ec5-9ecb-c1926834a256",
   "metadata": {},
   "source": [
    "# Write a Python function to check whether a number falls within a given range. The function should take three arguments: start, stop, and number. The function should return True if the number is within the range [start, stop] (inclusive), and False otherwise."
   ]
  },
  {
   "cell_type": "code",
   "execution_count": 17,
   "id": "bd4556e1-a7ad-4310-a668-0dd8c71b5431",
   "metadata": {},
   "outputs": [
    {
     "name": "stdout",
     "output_type": "stream",
     "text": [
      "True\n",
      "True\n",
      "False\n"
     ]
    }
   ],
   "source": [
    "def in_range(start, stop, num):\n",
    "    return start <= num <= stop\n",
    "print(in_range(2, 7, 5))\n",
    "print(in_range(1, 3, 3))\n",
    "print(in_range(1, 5, 10))"
   ]
  },
  {
   "cell_type": "markdown",
   "id": "40302378-49a0-4910-931c-8b9a67521355",
   "metadata": {},
   "source": [
    "# Write a Python function that accepts a string and counts the number of upper and lower case letters"
   ]
  },
  {
   "cell_type": "code",
   "execution_count": 19,
   "id": "ea630916-5eb5-4b00-b30b-1cf7055fd73a",
   "metadata": {},
   "outputs": [
    {
     "name": "stdout",
     "output_type": "stream",
     "text": [
      "Upper: 2, Lower: 8\n"
     ]
    }
   ],
   "source": [
    "def count_cases(s):\n",
    "    up = 0\n",
    "    low = 0\n",
    "    for ch in s:\n",
    "        if ch.isupper():\n",
    "            up += 1\n",
    "        elif ch.islower():\n",
    "            low += 1\n",
    "    return up, low\n",
    "s = \"Hello World\"\n",
    "u, l = count_cases(s)\n",
    "print(\"Upper: {}, Lower: {}\".format(u, l))"
   ]
  },
  {
   "cell_type": "markdown",
   "id": "fc147437-c12e-4698-bbed-7eec53c8676d",
   "metadata": {},
   "source": [
    "# Write a function is_prime(n) that returns True if the number n is prime, otherwise False."
   ]
  },
  {
   "cell_type": "code",
   "execution_count": 21,
   "id": "8a989424-f218-4220-b76b-3b2ce427f5a2",
   "metadata": {},
   "outputs": [
    {
     "name": "stdout",
     "output_type": "stream",
     "text": [
      "True\n",
      "False\n",
      "True\n"
     ]
    }
   ],
   "source": [
    "def is_prime(n):\n",
    "    if n < 2:\n",
    "        return False\n",
    "    for i in range(2, n):\n",
    "        if n % i == 0:\n",
    "            return False\n",
    "    return True\n",
    "print(is_prime(7)) \n",
    "print(is_prime(4)) \n",
    "print(is_prime(13))  "
   ]
  },
  {
   "cell_type": "markdown",
   "id": "cadb027a-6fd9-45e4-87bc-97c4e24aa201",
   "metadata": {},
   "source": [
    "# Write a function is_anagram(s1, s2) that takes two strings s1 and s2 and returns True if they are anagrams of each other, otherwise False.\n",
    "* is_anagram(\"listen\", \"silent\")  # Output: True\n",
    "* is_anagram(\"hello\", \"world\")    # Output: False"
   ]
  },
  {
   "cell_type": "code",
   "execution_count": 23,
   "id": "281060c1-83bf-4ead-9bd2-eebbe7f91a60",
   "metadata": {},
   "outputs": [
    {
     "name": "stdout",
     "output_type": "stream",
     "text": [
      "True\n",
      "False\n"
     ]
    }
   ],
   "source": [
    "def is_anagram(s1, s2):\n",
    "    s1 = s1.replace(\" \", \"\").lower()\n",
    "    s2 = s2.replace(\" \", \"\").lower()\n",
    "    return sorted(s1) == sorted(s2)\n",
    "print(is_anagram(\"listen\", \"silent\")) \n",
    "print(is_anagram(\"hello\", \"world\"))    "
   ]
  },
  {
   "cell_type": "markdown",
   "id": "4ff1face-e100-47f0-99f8-8ee892dfafc3",
   "metadata": {},
   "source": [
    "# Write a function sum_of_digits(n) that takes an integer n and returns the sum of its digits.\n",
    "* sum_of_digits(1234)  # Output: 10"
   ]
  },
  {
   "cell_type": "code",
   "execution_count": 27,
   "id": "17c4d171-3d5f-41c5-98a6-1a17ff756de1",
   "metadata": {},
   "outputs": [
    {
     "name": "stdout",
     "output_type": "stream",
     "text": [
      "10\n"
     ]
    }
   ],
   "source": [
    "def sum_of_digits(n):\n",
    "    total = 0\n",
    "    while n > 0:\n",
    "        total += n % 10\n",
    "        n //= 10\n",
    "    return total\n",
    "print(sum_of_digits(1234))  "
   ]
  },
  {
   "cell_type": "code",
   "execution_count": null,
   "id": "5aae57f6-ef1b-4bf9-a73a-ef34bb4a040a",
   "metadata": {},
   "outputs": [],
   "source": []
  }
 ],
 "metadata": {
  "kernelspec": {
   "display_name": "Python [conda env:base] *",
   "language": "python",
   "name": "conda-base-py"
  },
  "language_info": {
   "codemirror_mode": {
    "name": "ipython",
    "version": 3
   },
   "file_extension": ".py",
   "mimetype": "text/x-python",
   "name": "python",
   "nbconvert_exporter": "python",
   "pygments_lexer": "ipython3",
   "version": "3.12.7"
  }
 },
 "nbformat": 4,
 "nbformat_minor": 5
}
