{
 "cells": [
  {
   "cell_type": "markdown",
   "id": "a5a60006-9285-4631-a511-3083e2785ee7",
   "metadata": {},
   "source": [
    "## Task - 8 Conditional Statements\n",
    "### 1].A company decided to give a bonus of 5% of their salary to employees if his/her years of service is more than 5 years.\n",
    "### Ask the user for their salary and years of service and print the net amount of that person.\n"
   ]
  },
  {
   "cell_type": "code",
   "execution_count": 8,
   "id": "7dffb82a-a531-4b72-9763-a7f7e9ef418e",
   "metadata": {},
   "outputs": [
    {
     "name": "stdin",
     "output_type": "stream",
     "text": [
      "enter your salary 50000\n",
      "enter years of service 6\n"
     ]
    },
    {
     "name": "stdout",
     "output_type": "stream",
     "text": [
      "Your total net salary amt is : 52500.0\n"
     ]
    }
   ],
   "source": [
    "salary = int(input('enter your salary'))\n",
    "years_of_exp = int(input('enter years of service'))\n",
    "if years_of_exp > 5:\n",
    "    percentage = salary*5/100\n",
    "    net_amt = percentage + salary\n",
    "print('Your total net salary amt is :',net_amt)"
   ]
  },
  {
   "cell_type": "markdown",
   "id": "5e4ffae6-e728-4f62-b644-3b84c7e3696f",
   "metadata": {},
   "source": [
    "### 2] A school has following rules for grading system:\n",
    "**a. Below 25 - F grade**\n",
    "\n",
    "**b. 25 to 45 - E**\n",
    "\n",
    "**c. 45 to 50 - D**\n",
    "\n",
    "**d. 50 to 60 - C**\n",
    "\n",
    "**e. 60 to 80 - B**\n",
    "\n",
    "**f. Above 80 - A**\n",
    "\n",
    "### Ask the user to enter marks and print the corresponding grade.\n"
   ]
  },
  {
   "cell_type": "code",
   "execution_count": 13,
   "id": "2a8b7edc-2de0-4093-b033-deda8fb7173c",
   "metadata": {},
   "outputs": [
    {
     "name": "stdin",
     "output_type": "stream",
     "text": [
      "enter your marks 75\n"
     ]
    },
    {
     "name": "stdout",
     "output_type": "stream",
     "text": [
      "Your Grade is B\n"
     ]
    }
   ],
   "source": [
    "marks = int(input('enter your marks'))\n",
    "if marks < 25:\n",
    "    print('Your Grade is F')\n",
    "elif marks >= 25 and marks < 45:\n",
    "    print('Your Grade is E')\n",
    "elif marks >= 45 and marks <50:\n",
    "    print('Your Grade is D')\n",
    "elif marks >= 50 and marks <60:\n",
    "    print('Your Grade is C')\n",
    "elif marks >= 60 and marks <80:\n",
    "    print('Your Grade is B')\n",
    "elif marks > 80:\n",
    "    print('Your Grade is A')\n",
    "else:\n",
    "    Print('Your are Fail')"
   ]
  },
  {
   "cell_type": "markdown",
   "id": "8b82393b-7787-435d-9461-affddc0715a7",
   "metadata": {},
   "source": [
    "### 3].Create a program that asks the user for their age and nationality. Depending on their age and nationality, display a different message using nested if statements. For example, if they are under 18 and from the USA, display \"You are a minor from the USA.\"\n"
   ]
  },
  {
   "cell_type": "code",
   "execution_count": 17,
   "id": "c8096265-5dd9-48f9-a4cd-5af301cb52a5",
   "metadata": {},
   "outputs": [
    {
     "name": "stdin",
     "output_type": "stream",
     "text": [
      "enter your age 32\n",
      "enter your nationality India\n"
     ]
    },
    {
     "name": "stdout",
     "output_type": "stream",
     "text": [
      "You're minor from the India\n"
     ]
    }
   ],
   "source": [
    "age = int(input('enter your age'))\n",
    "nationality = input('enter your nationality')\n",
    "if age >= 18:\n",
    "    if nationality.lower() == \"us\":\n",
    "        print(\"You are senior from the\",nationality)        \n",
    "    else:\n",
    "        print(\"You're minor from the\",nationality)\n",
    "else:\n",
    "    print(\"You're a minor from the\", nationality)"
   ]
  },
  {
   "cell_type": "markdown",
   "id": "304d3e7e-4407-4208-9adf-db593f22bdba",
   "metadata": {},
   "source": [
    "### 4]Using following list of cities per country,\n",
    "**india = [\"mumbai\", \"banglore\", \"chennai\", \"delhi\"]**\n",
    "\n",
    "**pakistan = [\"lahore\",\"karachi\",\"islamabad\"]**\n",
    "\n",
    "**bangladesh = [\"dhaka\", \"khulna\", \"rangpur\"]**\n",
    "\n",
    "### Write a program that asks user to enter a city name and it should tell which country the city belongs to\n"
   ]
  },
  {
   "cell_type": "code",
   "execution_count": 29,
   "id": "72301aac-34f3-4f97-a625-ca9ac788e3e5",
   "metadata": {},
   "outputs": [
    {
     "name": "stdin",
     "output_type": "stream",
     "text": [
      "enter your city name Mumbai\n"
     ]
    },
    {
     "name": "stdout",
     "output_type": "stream",
     "text": [
      "India\n"
     ]
    }
   ],
   "source": [
    "city_name = (input('enter your city name')).lower()\n",
    "india = [\"mumbai\",\"banglore\",\"chennai\"]\n",
    "pakistan = [\"karachi\",\"lahore\",\"islamabad\"]\n",
    "bangladesh = [\"dhaka\",\"khulna\",\"rangpur\"]\n",
    "if city_name in india:\n",
    "    print(\"India\")\n",
    "elif city_name in pakistan:\n",
    "    print(\"Pakistan\")\n",
    "elif city_name in bangladesh:\n",
    "    print(\"Bangladesh\")\n",
    "else:\n",
    "    print(\"city is not there in list\")"
   ]
  },
  {
   "cell_type": "markdown",
   "id": "3f6b8c28-44c2-4bd6-ba87-e0a304631d4d",
   "metadata": {},
   "source": [
    "### 5]Write a program that asks the user to enter two cities and it tells you if they both are in the same country or not. For example if I enter mumbai and chennai, it will print \"Both cities are in India\" , but if I enter mumbai and dhaka it should print \"They don't belong to the same country\".\n"
   ]
  },
  {
   "cell_type": "code",
   "execution_count": 36,
   "id": "bff883ef-49b1-4c1a-bc39-b3d5056e3faf",
   "metadata": {},
   "outputs": [
    {
     "name": "stdin",
     "output_type": "stream",
     "text": [
      "enter your 1st city name Mumbai\n",
      "enter your 2nd city name banglore\n"
     ]
    },
    {
     "name": "stdout",
     "output_type": "stream",
     "text": [
      "both are in india\n"
     ]
    }
   ],
   "source": [
    "city_name1 = (input('enter your 1st city name')).lower()\n",
    "city_name2 = (input('enter your 2nd city name')).lower()\n",
    "india = [\"mumbai\",\"banglore\",\"chennai\"]\n",
    "pakistan = [\"karachi\",\"lahore\",\"islamabad\"]\n",
    "bangladesh = [\"dhaka\",\"khulna\",\"rangpur\"]\n",
    "if city_name1 in india and city_name2 in india:\n",
    "    print(\"both are in india\")\n",
    "elif city_name1 in pakistan and city_name2 in pakistan:\n",
    "    print(\"both are in pakistan\")\n",
    "elif city_name1 in bangladesh and city_name2 in bangladesh:\n",
    "    print(\"both are in bangladesh\")\n",
    "else:\n",
    "    print(\"they don't belong to the same country\")"
   ]
  },
  {
   "cell_type": "markdown",
   "id": "7f05cd26-e273-43fa-b16e-b012978583ea",
   "metadata": {},
   "source": [
    "### 6]Write a program which will accept a word and a number from the user. Check if the     word starts with a vowel and the number is even and write appropriate conditions accordingly (Case sensitivity should not matter).\n",
    "**Example :**\n",
    "\n",
    "**Innoamtics, 6 --- both the conditions are satisfied**\n",
    "\n",
    "**innomatics, 5--- at least one condition is satisfied**\n",
    "\n",
    "**Ramya, 6--- at least one condition is satisfied**\n"
   ]
  },
  {
   "cell_type": "code",
   "execution_count": 41,
   "id": "1d078df6-f92a-46fa-bc67-5fe283eaa11e",
   "metadata": {},
   "outputs": [
    {
     "name": "stdin",
     "output_type": "stream",
     "text": [
      "enter a word mayuri...\n",
      "enter a num 6\n"
     ]
    },
    {
     "name": "stdout",
     "output_type": "stream",
     "text": [
      "m the word does not start with vowels\n",
      "6 num is even\n"
     ]
    }
   ],
   "source": [
    "word = (input('enter a word')).lower()\n",
    "num = int(input('enter a num'))\n",
    "vowels = ('a','e','i','o','u')\n",
    "if word[0] in vowels:\n",
    "    print('{} the word start with vowel'.format(word[0]))\n",
    "else:\n",
    "    print('{} the word does not start with vowels'.format(word[0]))\n",
    "\n",
    "if num % 2==0:\n",
    "        print('{} num is even'.format(num))\n",
    "else:\n",
    "    print('{} num is odd'.format(num))"
   ]
  },
  {
   "cell_type": "code",
   "execution_count": null,
   "id": "30657705-62fd-460d-9697-1e176b540606",
   "metadata": {},
   "outputs": [],
   "source": []
  }
 ],
 "metadata": {
  "kernelspec": {
   "display_name": "Python [conda env:base] *",
   "language": "python",
   "name": "conda-base-py"
  },
  "language_info": {
   "codemirror_mode": {
    "name": "ipython",
    "version": 3
   },
   "file_extension": ".py",
   "mimetype": "text/x-python",
   "name": "python",
   "nbconvert_exporter": "python",
   "pygments_lexer": "ipython3",
   "version": "3.12.7"
  }
 },
 "nbformat": 4,
 "nbformat_minor": 5
}
