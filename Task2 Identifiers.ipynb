{
 "cells": [
  {
   "cell_type": "markdown",
   "id": "b8456477-c961-4239-81b2-c4c173bcaa59",
   "metadata": {},
   "source": [
    " ## 1]. Explain about identifiers and their rules.\n"
   ]
  },
  {
   "cell_type": "markdown",
   "id": "f82e51bb-1d50-49c6-b814-568deb403a3d",
   "metadata": {},
   "source": [
    "### Identifiers\n",
    "_Identifier is the name we give to identify a variable, function, class, module or other object. That means whenever we want to give an entity a name, that’s called identifier._"
   ]
  },
  {
   "cell_type": "markdown",
   "id": "137aa8e3-4d57-420b-b948-363203cf2793",
   "metadata": {},
   "source": [
    "### Rules:"
   ]
  },
  {
   "cell_type": "markdown",
   "id": "dda8c304-ed25-43ae-8252-0358d3eb0cc1",
   "metadata": {},
   "source": [
    "###  Here are some rules for writing Identifiers in python._\n",
    "\n",
    "_a) Identifiers can be combination of uppercase and lowercase letters, digits or an underscore(_)._\n",
    "\n",
    "_b) So myVariable, variable_1, variable_for_print all are valid python identifiers._\n",
    "\n",
    "_c) An Identifier can not start with digit. So while variable1 is valid, 1variable is not valid._\n",
    "\n",
    "_d) We can’t use special symbols like !,#,@,%,$ etc in our Identifier._\n",
    "\n",
    "_e) Identifier can be of any length._"
   ]
  },
  {
   "cell_type": "markdown",
   "id": "b87f1e9a-7099-4517-bd71-104fee657b94",
   "metadata": {},
   "source": [
    "## 2.] Run all the following variables and separate valid and Invalid Variables?\n",
    "\n",
    "1. my_variable = 25\n",
    "2. counter = 40.7\n",
    "3. \"_total = \"\"Hello\"\"\"\n",
    "4. 123abc = 34\n",
    "5. my variable =6.7\n",
    "6. \"@count = \"\"hi\"\"\"\n",
    "7. \"for = \"\"True\"\"\"\n",
    "8. Name123 = 136\n",
    "9. myFunction = True\n",
    "10. _data = False\n",
    "11. \"if_condition? = \"\"Innomatics\"\"\"\n",
    "12. \"class = \"\"Hyderabad\"\"\"\n"
   ]
  },
  {
   "cell_type": "code",
   "execution_count": 151,
   "id": "6727cce0-b6b9-472b-bfbf-ba31ca3c1ec3",
   "metadata": {},
   "outputs": [],
   "source": [
    "#1.\n",
    "my_variable = \"25\""
   ]
  },
  {
   "cell_type": "code",
   "execution_count": 152,
   "id": "c7a6be0d-9cd3-4b98-be79-3d1a9d263c89",
   "metadata": {},
   "outputs": [
    {
     "data": {
      "text/plain": [
       "'25'"
      ]
     },
     "execution_count": 152,
     "metadata": {},
     "output_type": "execute_result"
    }
   ],
   "source": [
    "my_variable"
   ]
  },
  {
   "cell_type": "code",
   "execution_count": 153,
   "id": "309287c3-1b51-4715-bed6-f2fd344e5b69",
   "metadata": {},
   "outputs": [
    {
     "name": "stdout",
     "output_type": "stream",
     "text": [
      "40.7\n"
     ]
    }
   ],
   "source": [
    "#2.\n",
    "counter = 40.7\n",
    "print(counter)"
   ]
  },
  {
   "cell_type": "code",
   "execution_count": 154,
   "id": "63f9e3fa-e7f1-41ca-b140-c937dbf92900",
   "metadata": {},
   "outputs": [
    {
     "data": {
      "text/plain": [
       "'_total = Hello'"
      ]
     },
     "execution_count": 154,
     "metadata": {},
     "output_type": "execute_result"
    }
   ],
   "source": [
    "#3.\n",
    "\"_total = \"\"Hello\"\"\""
   ]
  },
  {
   "cell_type": "code",
   "execution_count": 155,
   "id": "4627cff2-734b-42cc-8654-9f7a93542976",
   "metadata": {},
   "outputs": [
    {
     "name": "stdout",
     "output_type": "stream",
     "text": [
      "Hello\n"
     ]
    }
   ],
   "source": [
    "#3. correct way\n",
    "_total = \"Hello\"\n",
    "print(_total)"
   ]
  },
  {
   "cell_type": "code",
   "execution_count": 156,
   "id": "f071f636-8aae-4d94-a399-96d54c19ad92",
   "metadata": {},
   "outputs": [
    {
     "ename": "SyntaxError",
     "evalue": "invalid decimal literal (859382801.py, line 2)",
     "output_type": "error",
     "traceback": [
      "\u001b[1;36m  Cell \u001b[1;32mIn[156], line 2\u001b[1;36m\u001b[0m\n\u001b[1;33m    123abc = 34\u001b[0m\n\u001b[1;37m      ^\u001b[0m\n\u001b[1;31mSyntaxError\u001b[0m\u001b[1;31m:\u001b[0m invalid decimal literal\n"
     ]
    }
   ],
   "source": [
    "#4.\n",
    "123abc = 34"
   ]
  },
  {
   "cell_type": "code",
   "execution_count": 204,
   "id": "36bc8c87-54ca-4d8e-b7d7-df7de2117f30",
   "metadata": {},
   "outputs": [],
   "source": [
    "#4. Correct way\n",
    "abc123 = 34"
   ]
  },
  {
   "cell_type": "code",
   "execution_count": null,
   "id": "06e40a6f-3a5c-42c8-9ec0-b9f89030393f",
   "metadata": {},
   "outputs": [],
   "source": [
    "#5.\n",
    "my variable =6.7"
   ]
  },
  {
   "cell_type": "code",
   "execution_count": 202,
   "id": "7b17728f-b0b3-4a7f-82bc-83e1dc6099cc",
   "metadata": {},
   "outputs": [
    {
     "name": "stdout",
     "output_type": "stream",
     "text": [
      "6.7\n"
     ]
    }
   ],
   "source": [
    "#5. correct way\n",
    "my_variable = 6.7\n",
    "print(my_variable)"
   ]
  },
  {
   "cell_type": "code",
   "execution_count": null,
   "id": "d8f60ba3-42fa-4a6f-9a02-09198d5a9deb",
   "metadata": {},
   "outputs": [],
   "source": [
    "#6.\n",
    "\"@count = \"\"hi\"\"\""
   ]
  },
  {
   "cell_type": "code",
   "execution_count": null,
   "id": "d2a7f1c1-a5e4-4d3b-a1d7-f17c90e84971",
   "metadata": {},
   "outputs": [],
   "source": [
    "count = \"hi\" #correct way for writing variable as it doe not include special character"
   ]
  },
  {
   "cell_type": "code",
   "execution_count": null,
   "id": "8fbfb4fe-ecf2-42ba-9f36-25cdfd83e5a0",
   "metadata": {},
   "outputs": [],
   "source": [
    "#7.\n",
    "\"for = \"\"True\"\"\""
   ]
  },
  {
   "cell_type": "code",
   "execution_count": 208,
   "id": "e5322577-bef2-4d47-977f-96d2537588aa",
   "metadata": {},
   "outputs": [
    {
     "name": "stdout",
     "output_type": "stream",
     "text": [
      "True\n"
     ]
    }
   ],
   "source": [
    "is_for = \"True\"\n",
    "print(is_for)"
   ]
  },
  {
   "cell_type": "code",
   "execution_count": 210,
   "id": "c1bcad0c-4a63-4c1f-a849-c0dcbba6be2f",
   "metadata": {},
   "outputs": [
    {
     "name": "stdout",
     "output_type": "stream",
     "text": [
      "136\n"
     ]
    }
   ],
   "source": [
    "#8.\n",
    "Name123 = 136\n",
    "print(Name123)"
   ]
  },
  {
   "cell_type": "code",
   "execution_count": null,
   "id": "ae2ee0de-fc62-48e8-940e-92e717b36adb",
   "metadata": {},
   "outputs": [],
   "source": [
    "#9.\n",
    "myFunction = True"
   ]
  },
  {
   "cell_type": "code",
   "execution_count": null,
   "id": "ed82e4bb-9422-4957-8339-79a1c8121bb6",
   "metadata": {},
   "outputs": [],
   "source": [
    "#10.\n",
    "_data = False"
   ]
  },
  {
   "cell_type": "code",
   "execution_count": null,
   "id": "6ddbb0b3-e8d9-483e-994a-ef1e7edce6e0",
   "metadata": {},
   "outputs": [],
   "source": [
    "#11.\n",
    "\"if_condition? = \"\"Innomatics\"\"\""
   ]
  },
  {
   "cell_type": "code",
   "execution_count": null,
   "id": "1df6f083-d7ec-44c9-9cdd-e20ed2de0d06",
   "metadata": {},
   "outputs": [],
   "source": [
    "#12.\n",
    "\"class = \"\"Hyderabad\"\"\""
   ]
  },
  {
   "cell_type": "markdown",
   "id": "0fb57c8e-5e4f-471b-be48-a3530d7bb52d",
   "metadata": {},
   "source": [
    " ## Valid and Invalid Variables\n",
    "\n",
    " ### Valid Variables\n",
    "\n",
    "1. my_variable = \"25\"\n",
    "2. counter = 40.7\n",
    "3. \"_total = \"\"Hello\"\"\"\n",
    "4. Name123 = 136\n",
    "5. myFunction = True\n",
    "6. _data = False \n",
    "\n",
    "\n",
    " ### Invalid Variables\n",
    " 1. 123abc = 34 \n",
    " 2. my variable =6.7\n",
    " 3. \"@count = \"\"hi\"\"\"\n",
    " 4. \"for = \"\"True\"\"\"\n",
    " 5. \"if_condition? = \"\"Innomatics\"\"\"\n",
    " 6. \"class = \"\"Hyderabad\"\"\"\n",
    " "
   ]
  },
  {
   "cell_type": "markdown",
   "id": "51d5a8b2-e4fd-45dc-a881-1271e4839863",
   "metadata": {},
   "source": [
    "## 3]. Explain why Python treats them as invalid Identifiers. Explain?\n",
    "\n",
    "### Reason for Invalidity:\n",
    "  a). Identifiers names must start with a letter (a-z, A-Z) or an underscore _.\n",
    "  \n",
    "  b). Identifiers names cannot start with a number.\n",
    "  \n",
    "  c). Identifiers names cannot have spaces.\n",
    "  \n",
    "  d). They cannot start with a number or special characters like @, #, $, etc.\n",
    "  \n",
    "  e). Python has a set of reserved keywords (like for, while, if, else, True, False, etc.) that cannot be used as identifiers (variable names)\n",
    "  \n",
    "  f). Variable names cannot be Python keywords (e.g., def, class, if, etc.).\n",
    " "
   ]
  },
  {
   "cell_type": "markdown",
   "id": "bb013de4-7809-494a-bfe8-277517ddb800",
   "metadata": {},
   "source": [
    "## 4].  Use different identifiers and assign the below values\n",
    "\n",
    "1. 10\n",
    "2. 5\n",
    "3. 3.14159\n",
    "4. -0.12345\n",
    "5. 1000\n",
    "6. \"\"\"Hello, World!\"\"\"\n",
    "7. \"\"\"Python\"\"\"\n",
    "8. \"\"\"I am learning\"\"\"\n",
    "9. \"\"\"Text type\"\"\"\n",
    "10. \"\"\"String\"\"\"\n",
    "11. True\n",
    "12. False\n",
    "\n"
   ]
  },
  {
   "cell_type": "code",
   "execution_count": 172,
   "id": "77b17006-e2e0-4bb0-a841-c31e3672d729",
   "metadata": {},
   "outputs": [
    {
     "name": "stdout",
     "output_type": "stream",
     "text": [
      "10\n"
     ]
    }
   ],
   "source": [
    "num = 10\n",
    "print(num)"
   ]
  },
  {
   "cell_type": "code",
   "execution_count": 174,
   "id": "bb822916-7eeb-4192-aa51-4fbf03b1a3c3",
   "metadata": {},
   "outputs": [
    {
     "name": "stdout",
     "output_type": "stream",
     "text": [
      "5\n"
     ]
    }
   ],
   "source": [
    "num1 = 5\n",
    "print(num1)"
   ]
  },
  {
   "cell_type": "code",
   "execution_count": 176,
   "id": "2dea9e6b-26bc-49cb-9ae4-f556a325080a",
   "metadata": {},
   "outputs": [
    {
     "name": "stdout",
     "output_type": "stream",
     "text": [
      "3.14159\n"
     ]
    }
   ],
   "source": [
    "pi_value = 3.14159\n",
    "print(pi_value)"
   ]
  },
  {
   "cell_type": "code",
   "execution_count": 178,
   "id": "d4c07667-0577-4e37-833a-f8936b3002cc",
   "metadata": {},
   "outputs": [
    {
     "name": "stdout",
     "output_type": "stream",
     "text": [
      "-0.12345\n"
     ]
    }
   ],
   "source": [
    "neg_num = -0.12345\n",
    "print(neg_num)"
   ]
  },
  {
   "cell_type": "code",
   "execution_count": 180,
   "id": "04e08eef-02f8-409d-87c4-4a690ddc5203",
   "metadata": {},
   "outputs": [
    {
     "name": "stdout",
     "output_type": "stream",
     "text": [
      "1000\n"
     ]
    }
   ],
   "source": [
    "_value = 1000\n",
    "print(_value)"
   ]
  },
  {
   "cell_type": "code",
   "execution_count": 182,
   "id": "780e41cf-f928-4665-874d-435760294836",
   "metadata": {},
   "outputs": [
    {
     "name": "stdout",
     "output_type": "stream",
     "text": [
      "Hello, World!\n"
     ]
    }
   ],
   "source": [
    "string = \"\"\"Hello, World!\"\"\"\n",
    "print(string)"
   ]
  },
  {
   "cell_type": "code",
   "execution_count": 184,
   "id": "46110615-7f16-4715-97f1-97cae20e1ad5",
   "metadata": {},
   "outputs": [],
   "source": [
    "string2 = \"\"\"Python\"\"\"\n",
    "#print(string2)"
   ]
  },
  {
   "cell_type": "code",
   "execution_count": 186,
   "id": "6567b21f-2883-48a0-81bc-0d269072a2a7",
   "metadata": {},
   "outputs": [
    {
     "data": {
      "text/plain": [
       "'Python'"
      ]
     },
     "execution_count": 186,
     "metadata": {},
     "output_type": "execute_result"
    }
   ],
   "source": [
    "string2"
   ]
  },
  {
   "cell_type": "code",
   "execution_count": 188,
   "id": "83dee7c4-07d9-467e-ba1d-f3ccebd42f25",
   "metadata": {},
   "outputs": [],
   "source": [
    "my_task = \"\"\"I am learning\"\"\""
   ]
  },
  {
   "cell_type": "code",
   "execution_count": 190,
   "id": "4659c167-6bc2-413b-b2f2-a9349085192b",
   "metadata": {},
   "outputs": [
    {
     "data": {
      "text/plain": [
       "'I am learning'"
      ]
     },
     "execution_count": 190,
     "metadata": {},
     "output_type": "execute_result"
    }
   ],
   "source": [
    "my_task"
   ]
  },
  {
   "cell_type": "code",
   "execution_count": 192,
   "id": "53c79ee0-2b3f-404e-b222-6245baadd61c",
   "metadata": {},
   "outputs": [],
   "source": [
    "text_type = \"\"\"Text type\"\"\""
   ]
  },
  {
   "cell_type": "code",
   "execution_count": 194,
   "id": "6073b2a8-6714-4b19-b210-4948e19082c4",
   "metadata": {},
   "outputs": [
    {
     "data": {
      "text/plain": [
       "'Text type'"
      ]
     },
     "execution_count": 194,
     "metadata": {},
     "output_type": "execute_result"
    }
   ],
   "source": [
    "text_type"
   ]
  },
  {
   "cell_type": "code",
   "execution_count": 196,
   "id": "b2d00b86-08e6-446b-bbba-b01293f7df3c",
   "metadata": {},
   "outputs": [
    {
     "name": "stdout",
     "output_type": "stream",
     "text": [
      "String\n"
     ]
    }
   ],
   "source": [
    "data_type = \"\"\"String\"\"\"\n",
    "print(data_type)"
   ]
  },
  {
   "cell_type": "code",
   "execution_count": 198,
   "id": "6c36bf53-62c5-46dc-8a09-7df135aecef7",
   "metadata": {},
   "outputs": [
    {
     "name": "stdout",
     "output_type": "stream",
     "text": [
      "True\n"
     ]
    }
   ],
   "source": [
    "is_for = True\n",
    "print(is_for)"
   ]
  },
  {
   "cell_type": "code",
   "execution_count": 200,
   "id": "600c3366-21ef-421a-9054-de92c40a71aa",
   "metadata": {},
   "outputs": [
    {
     "name": "stdout",
     "output_type": "stream",
     "text": [
      "False\n"
     ]
    }
   ],
   "source": [
    "is_for = False\n",
    "print(is_for)"
   ]
  },
  {
   "cell_type": "code",
   "execution_count": null,
   "id": "af3e3c53-d37e-4160-b2cd-4bcb50f8f1a1",
   "metadata": {},
   "outputs": [],
   "source": []
  },
  {
   "cell_type": "code",
   "execution_count": null,
   "id": "5390fbcb-d671-4050-be68-b718d155dee0",
   "metadata": {},
   "outputs": [],
   "source": []
  }
 ],
 "metadata": {
  "kernelspec": {
   "display_name": "Python [conda env:base] *",
   "language": "python",
   "name": "conda-base-py"
  },
  "language_info": {
   "codemirror_mode": {
    "name": "ipython",
    "version": 3
   },
   "file_extension": ".py",
   "mimetype": "text/x-python",
   "name": "python",
   "nbconvert_exporter": "python",
   "pygments_lexer": "ipython3",
   "version": "3.12.7"
  }
 },
 "nbformat": 4,
 "nbformat_minor": 5
}
