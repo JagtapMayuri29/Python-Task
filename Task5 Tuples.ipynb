{
 "cells": [
  {
   "cell_type": "markdown",
   "id": "4f7cdef4-d138-4f0c-a314-a7daf37b8737",
   "metadata": {},
   "source": [
    "## Task-5 Tuples\n",
    "### Q.1]immutability in Python tuples with examples. Discuss why tuples are considered immutable data structures.\n",
    "\n",
    "Tuples are sequence of Elements. Tuples are immutable data structure because, we cannot change tuples once set,nor we can add or remove elements.\n"
   ]
  },
  {
   "cell_type": "code",
   "execution_count": 5,
   "id": "2dfe7c02-cf47-44d9-85b0-7aca4422d466",
   "metadata": {},
   "outputs": [
    {
     "data": {
      "text/plain": [
       "(10, 20, 30, 40, 50)"
      ]
     },
     "execution_count": 5,
     "metadata": {},
     "output_type": "execute_result"
    }
   ],
   "source": [
    "#Example:\n",
    "tuple = (10,20,30,40,50)\n",
    "tuple"
   ]
  },
  {
   "cell_type": "code",
   "execution_count": 10,
   "id": "bd8c48cc-7d78-42ae-b135-85ea8c5cb467",
   "metadata": {},
   "outputs": [
    {
     "ename": "TypeError",
     "evalue": "'tuple' object does not support item assignment",
     "output_type": "error",
     "traceback": [
      "\u001b[1;31m---------------------------------------------------------------------------\u001b[0m",
      "\u001b[1;31mTypeError\u001b[0m                                 Traceback (most recent call last)",
      "Cell \u001b[1;32mIn[10], line 2\u001b[0m\n\u001b[0;32m      1\u001b[0m \u001b[38;5;66;03m#Let change element at end\u001b[39;00m\n\u001b[1;32m----> 2\u001b[0m \u001b[38;5;28mtuple\u001b[39m[\u001b[38;5;241m3\u001b[39m] \u001b[38;5;241m=\u001b[39m \u001b[38;5;241m50\u001b[39m\n\u001b[0;32m      3\u001b[0m \u001b[38;5;28mtuple\u001b[39m\n",
      "\u001b[1;31mTypeError\u001b[0m: 'tuple' object does not support item assignment"
     ]
    }
   ],
   "source": [
    "#Let change element at end\n",
    "tuple[3] = 50\n",
    "tuple"
   ]
  },
  {
   "cell_type": "markdown",
   "id": "e5f5aeff-eee6-4f92-bf2d-545abef3a8f3",
   "metadata": {},
   "source": [
    "### Q.2]Tuple Basics Create a Python tuple containing the names of your favorite fruits. Write a Python program to print each fruit name from the tuple.\n"
   ]
  },
  {
   "cell_type": "code",
   "execution_count": 17,
   "id": "32de26db-ed07-4513-a8f9-d9aaf7ac25b6",
   "metadata": {},
   "outputs": [
    {
     "name": "stdout",
     "output_type": "stream",
     "text": [
      "Fruit1: apple\n",
      "Fruit2: orange\n",
      "Fruit3: mango\n",
      "Fruit4: strawberry\n",
      "Fruit5: chiku\n"
     ]
    }
   ],
   "source": [
    "tuple = ('apple','orange','mango','strawberry','chiku')\n",
    "print(\"Fruit1:\",tuple[0])\n",
    "print(\"Fruit2:\",tuple[1])\n",
    "print(\"Fruit3:\",tuple[2])\n",
    "print(\"Fruit4:\",tuple[3])\n",
    "print(\"Fruit5:\",tuple[4])"
   ]
  },
  {
   "cell_type": "markdown",
   "id": "af7bdbfc-1ebc-4cd3-9bab-e2c8ab97a9f6",
   "metadata": {},
   "source": [
    "### Q.3] Given two tuples, write a Python program to concatenate them into a single tuple and then find the length of the resulting tuple.\n"
   ]
  },
  {
   "cell_type": "code",
   "execution_count": 29,
   "id": "dfc3d6df-19bc-4bb8-8a06-804615471c82",
   "metadata": {},
   "outputs": [
    {
     "data": {
      "text/plain": [
       "(40, 50, 60)"
      ]
     },
     "execution_count": 29,
     "metadata": {},
     "output_type": "execute_result"
    }
   ],
   "source": [
    "tuple1 = (40,50,60)\n",
    "tuple1 "
   ]
  },
  {
   "cell_type": "code",
   "execution_count": 31,
   "id": "1b2e5694-341e-4d93-ba48-dd06830a226d",
   "metadata": {},
   "outputs": [
    {
     "data": {
      "text/plain": [
       "(70, 80, 90)"
      ]
     },
     "execution_count": 31,
     "metadata": {},
     "output_type": "execute_result"
    }
   ],
   "source": [
    "tuple2 = (70,80,90)\n",
    "tuple2"
   ]
  },
  {
   "cell_type": "code",
   "execution_count": 38,
   "id": "b9655cac-7ed5-4f7e-918b-94001c61f7fe",
   "metadata": {},
   "outputs": [
    {
     "data": {
      "text/plain": [
       "(40, 50, 60, 70, 80, 90)"
      ]
     },
     "execution_count": 38,
     "metadata": {},
     "output_type": "execute_result"
    }
   ],
   "source": [
    "#concatenation \n",
    "tuple3 = tuple1 + tuple2\n",
    "tuple3"
   ]
  },
  {
   "cell_type": "code",
   "execution_count": 54,
   "id": "4dffa08f-8dcc-49a2-b9bf-3bdcb2c3b61e",
   "metadata": {},
   "outputs": [
    {
     "data": {
      "text/plain": [
       "6"
      ]
     },
     "execution_count": 54,
     "metadata": {},
     "output_type": "execute_result"
    }
   ],
   "source": [
    "len(tuple3)"
   ]
  },
  {
   "cell_type": "markdown",
   "id": "851bd0e0-6e65-4500-88ed-f58cc4b6d324",
   "metadata": {},
   "source": [
    "### Q.4]Write a Python program that takes a tuple of integers and converts it into a set. Then, find and print the maximum and minimum value from the set."
   ]
  },
  {
   "cell_type": "code",
   "execution_count": 57,
   "id": "b0b06347-5b2f-4a85-9fa9-a482f9d865c4",
   "metadata": {},
   "outputs": [
    {
     "data": {
      "text/plain": [
       "(10, 20, 30, 40, 60)"
      ]
     },
     "execution_count": 57,
     "metadata": {},
     "output_type": "execute_result"
    }
   ],
   "source": [
    "tup = (10,20,30,40,60)\n",
    "tup "
   ]
  },
  {
   "cell_type": "code",
   "execution_count": 91,
   "id": "1e65c212-e331-4ad6-ab02-b2aad8e6e015",
   "metadata": {},
   "outputs": [
    {
     "data": {
      "text/plain": [
       "{10, 20, 30, 40, 60}"
      ]
     },
     "execution_count": 91,
     "metadata": {},
     "output_type": "execute_result"
    }
   ],
   "source": [
    "Set = set(tup)\n",
    "Set"
   ]
  },
  {
   "cell_type": "code",
   "execution_count": 93,
   "id": "eb2edc2a-60ec-4a0f-85a6-ba21c5bd678d",
   "metadata": {},
   "outputs": [
    {
     "data": {
      "text/plain": [
       "60"
      ]
     },
     "execution_count": 93,
     "metadata": {},
     "output_type": "execute_result"
    }
   ],
   "source": [
    "max(Set)"
   ]
  },
  {
   "cell_type": "code",
   "execution_count": 95,
   "id": "3fd47d72-c986-4370-9816-c82f1e08233e",
   "metadata": {},
   "outputs": [
    {
     "data": {
      "text/plain": [
       "10"
      ]
     },
     "execution_count": 95,
     "metadata": {},
     "output_type": "execute_result"
    }
   ],
   "source": [
    "min(Set)"
   ]
  },
  {
   "cell_type": "markdown",
   "id": "f9fd3167-b52c-498f-ba83-cde17971add0",
   "metadata": {},
   "source": [
    "### Q.5]Tuple Slicing Given a tuple of 10 elements, write a Python program to print the elements from the 3rd to the 7th position using slicing.\n"
   ]
  },
  {
   "cell_type": "code",
   "execution_count": 87,
   "id": "c1f6d147-64d0-4c92-a3a2-0a86bb943353",
   "metadata": {},
   "outputs": [
    {
     "data": {
      "text/plain": [
       "((3+6j), 'hello', (1, 2, '999'), 999)"
      ]
     },
     "execution_count": 87,
     "metadata": {},
     "output_type": "execute_result"
    }
   ],
   "source": [
    "tup1 = (10, 55.3, 'python',(3+6j),'hello',(1,2,'999'),999, '999',999,100,'hi')\n",
    "tup1[3:7]"
   ]
  },
  {
   "cell_type": "markdown",
   "id": "c56fca96-5da7-432b-9904-1988260b48a7",
   "metadata": {},
   "source": [
    "### Q.6]Access value 20 from the tuple1 = (\"Orange\", [10, 20, 30], (5, 15, 25))\n"
   ]
  },
  {
   "cell_type": "code",
   "execution_count": 107,
   "id": "55c26212-cc86-4da8-a0f7-ed1f89bd2398",
   "metadata": {},
   "outputs": [],
   "source": [
    "tuple1 = (\"Orange\", [10, 20, 30], (5, 15, 25))"
   ]
  },
  {
   "cell_type": "code",
   "execution_count": 110,
   "id": "e042a407-f0f8-4087-888a-c7907e90bd1b",
   "metadata": {},
   "outputs": [
    {
     "data": {
      "text/plain": [
       "20"
      ]
     },
     "execution_count": 110,
     "metadata": {},
     "output_type": "execute_result"
    }
   ],
   "source": [
    "tuple1[1][1]"
   ]
  },
  {
   "cell_type": "markdown",
   "id": "1e0866fb-fb67-45c1-9cef-5cc28bae9b0a",
   "metadata": {},
   "source": [
    "### Q.7]tup=(1,2,3,2,4,5,3,4,2). Count the occurrences of element ‘2’ in the given tuple.\n"
   ]
  },
  {
   "cell_type": "code",
   "execution_count": 114,
   "id": "d9797a1f-4aa8-4832-9d51-183d29e65f49",
   "metadata": {},
   "outputs": [
    {
     "data": {
      "text/plain": [
       "3"
      ]
     },
     "execution_count": 114,
     "metadata": {},
     "output_type": "execute_result"
    }
   ],
   "source": [
    "tup=(1,2,3,2,4,5,3,4,2)\n",
    "tup.count(2)"
   ]
  },
  {
   "cell_type": "markdown",
   "id": "0bbbd671-dee2-4160-ab80-dd89683599c8",
   "metadata": {},
   "source": [
    "### Q.8]Create a tuple of numbers. Use slicing to create a new tuple containing only the even-indexed elements of the original tuple.\n"
   ]
  },
  {
   "cell_type": "code",
   "execution_count": 125,
   "id": "d5e8c396-cb17-4534-b367-5086c388724f",
   "metadata": {},
   "outputs": [
    {
     "name": "stdout",
     "output_type": "stream",
     "text": [
      "Original tuple: (10, 20, 30, 40, 50, 60, 70, 80, 90, 100)\n",
      "Even-elements: (10, 30, 50, 70, 90)\n"
     ]
    }
   ],
   "source": [
    "tuple4 = (10, 20, 30, 40, 50, 60, 70, 80, 90, 100)\n",
    "even_numbers = tuple4[::2]  \n",
    "print(\"Original tuple:\", tuple4)\n",
    "print(\"Even-elements:\", even_numbers)\n"
   ]
  },
  {
   "cell_type": "code",
   "execution_count": null,
   "id": "3f2e4e49-75a2-41ec-9720-3ef85bd36b88",
   "metadata": {},
   "outputs": [],
   "source": []
  }
 ],
 "metadata": {
  "kernelspec": {
   "display_name": "Python [conda env:base] *",
   "language": "python",
   "name": "conda-base-py"
  },
  "language_info": {
   "codemirror_mode": {
    "name": "ipython",
    "version": 3
   },
   "file_extension": ".py",
   "mimetype": "text/x-python",
   "name": "python",
   "nbconvert_exporter": "python",
   "pygments_lexer": "ipython3",
   "version": "3.12.7"
  }
 },
 "nbformat": 4,
 "nbformat_minor": 5
}
