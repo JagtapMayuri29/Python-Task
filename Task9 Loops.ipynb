{
 "cells": [
  {
   "cell_type": "markdown",
   "id": "b12ee90b-c683-4fa1-a8e7-4e7e6ad78acd",
   "metadata": {},
   "source": [
    "## Task - 9 Loops\n",
    "\n",
    "### 1].Write a program to print the first 10 even numbers using while loop\n"
   ]
  },
  {
   "cell_type": "code",
   "execution_count": 5,
   "id": "5e21d81e-ab5b-42f4-ac2b-e9b77879587e",
   "metadata": {},
   "outputs": [
    {
     "name": "stdout",
     "output_type": "stream",
     "text": [
      "2\n",
      "4\n",
      "6\n",
      "8\n",
      "10\n",
      "12\n",
      "14\n",
      "16\n",
      "18\n",
      "20\n"
     ]
    }
   ],
   "source": [
    "x = 1\n",
    "while x <= 20:\n",
    "    if x % 2==0:\n",
    "        print(x)\n",
    "    x=x+1\n",
    "          "
   ]
  },
  {
   "cell_type": "markdown",
   "id": "92400da2-7141-40fe-8bc8-3a83109e03c2",
   "metadata": {},
   "source": [
    "### 2].Write a program to print the first 10 odd numbers using while loop\n"
   ]
  },
  {
   "cell_type": "code",
   "execution_count": 8,
   "id": "e638688a-332a-4b77-9644-35fe788295a1",
   "metadata": {},
   "outputs": [
    {
     "name": "stdout",
     "output_type": "stream",
     "text": [
      "1\n",
      "3\n",
      "5\n",
      "7\n",
      "9\n",
      "11\n",
      "13\n",
      "15\n",
      "17\n",
      "19\n"
     ]
    }
   ],
   "source": [
    "x = 1\n",
    "while x <= 20:\n",
    "    if x % 2!=0:\n",
    "        print(x)\n",
    "    x=x+1\n",
    "        "
   ]
  },
  {
   "cell_type": "markdown",
   "id": "b773252a-3850-4860-8b07-14cba62cd3d6",
   "metadata": {},
   "source": [
    "### 3].Write a program to print the first 10 natural numbers using while loop\n"
   ]
  },
  {
   "cell_type": "code",
   "execution_count": 13,
   "id": "b7c8a9d4-5b31-4c27-a76e-6c3ab0492a4d",
   "metadata": {},
   "outputs": [
    {
     "name": "stdout",
     "output_type": "stream",
     "text": [
      "1\n",
      "2\n",
      "3\n",
      "4\n",
      "5\n",
      "6\n",
      "7\n",
      "8\n",
      "9\n",
      "10\n"
     ]
    }
   ],
   "source": [
    "x = 1\n",
    "while x <=10:\n",
    "    print(x)\n",
    "    x = x+1"
   ]
  },
  {
   "cell_type": "markdown",
   "id": "f2ecb19c-69bd-437b-a3dd-fd18232d84d1",
   "metadata": {},
   "source": [
    "### 4].Write a program to print the first 10 whole numbers using while loop\n"
   ]
  },
  {
   "cell_type": "code",
   "execution_count": 17,
   "id": "4a471765-2f5d-4951-84fc-4baa4a42a84d",
   "metadata": {},
   "outputs": [
    {
     "name": "stdout",
     "output_type": "stream",
     "text": [
      "0\n",
      "1\n",
      "2\n",
      "3\n",
      "4\n",
      "5\n",
      "6\n",
      "7\n",
      "8\n",
      "9\n",
      "10\n"
     ]
    }
   ],
   "source": [
    "x = 0\n",
    "while x <=10:\n",
    "    print(x)\n",
    "    x = x+1"
   ]
  },
  {
   "cell_type": "markdown",
   "id": "9410ab78-2250-473f-b5f5-596a4ffc8e89",
   "metadata": {},
   "source": [
    "### 5].Write a program that prints the numbers from 1 to 10, each on a new line.\n"
   ]
  },
  {
   "cell_type": "code",
   "execution_count": 22,
   "id": "13533ff9-7e8c-437e-8c81-9b0ab7e632af",
   "metadata": {},
   "outputs": [
    {
     "name": "stdout",
     "output_type": "stream",
     "text": [
      "1\n",
      "2\n",
      "3\n",
      "4\n",
      "5\n",
      "6\n",
      "7\n",
      "8\n",
      "9\n",
      "10\n"
     ]
    }
   ],
   "source": [
    "x = 1\n",
    "while x <=10:\n",
    "    print(x)\n",
    "    x=x+1"
   ]
  },
  {
   "cell_type": "markdown",
   "id": "03518451-7bed-46ae-9ff5-0960d808c650",
   "metadata": {},
   "source": [
    "### 6].Write a program that prints the even numbers from 1 to 20, each on a new line.\n"
   ]
  },
  {
   "cell_type": "code",
   "execution_count": 29,
   "id": "ab7c8f91-4485-41df-9441-d9c985f2d9d9",
   "metadata": {},
   "outputs": [
    {
     "name": "stdout",
     "output_type": "stream",
     "text": [
      "2\n",
      "4\n",
      "6\n",
      "8\n",
      "10\n",
      "12\n",
      "14\n",
      "16\n",
      "18\n",
      "20\n"
     ]
    }
   ],
   "source": [
    "x = 1\n",
    "while x <=20:\n",
    "    if x % 2 == 0:\n",
    "        print(x)\n",
    "    x=x+1"
   ]
  },
  {
   "cell_type": "markdown",
   "id": "d6c5b6b6-2bba-48e2-9db5-37c186086bf9",
   "metadata": {},
   "source": [
    "### 7].Write a program that calculates and prints the square of each number from 1 to 20.\n"
   ]
  },
  {
   "cell_type": "code",
   "execution_count": 34,
   "id": "95aa575a-7387-4212-996a-0ec59509ca8c",
   "metadata": {},
   "outputs": [
    {
     "name": "stdout",
     "output_type": "stream",
     "text": [
      "1\n",
      "4\n",
      "9\n",
      "16\n",
      "25\n",
      "36\n",
      "49\n",
      "64\n",
      "81\n",
      "100\n",
      "121\n",
      "144\n",
      "169\n",
      "196\n",
      "225\n",
      "256\n",
      "289\n",
      "324\n",
      "361\n",
      "400\n"
     ]
    }
   ],
   "source": [
    "x = 1\n",
    "while x <=20:\n",
    "    print(x**2)\n",
    "    x=x+1"
   ]
  },
  {
   "cell_type": "markdown",
   "id": "e1776143-2e55-485f-add9-62bd7935ccc9",
   "metadata": {},
   "source": [
    "### 8].write a program that prints the multiples of 3 from 3 to 30, each on a new line.\n"
   ]
  },
  {
   "cell_type": "code",
   "execution_count": 38,
   "id": "0a5bae24-b3a4-4323-bbcc-cfa16da1fce5",
   "metadata": {},
   "outputs": [
    {
     "name": "stdout",
     "output_type": "stream",
     "text": [
      "3\n",
      "6\n",
      "9\n",
      "12\n",
      "15\n",
      "18\n",
      "21\n",
      "24\n",
      "27\n",
      "30\n"
     ]
    }
   ],
   "source": [
    "x = 3\n",
    "while x <=30:\n",
    "    if x % 3==0:\n",
    "        print(x)\n",
    "    x=x+1"
   ]
  },
  {
   "cell_type": "markdown",
   "id": "0e238102-3087-4493-a69e-55182205501d",
   "metadata": {},
   "source": [
    "### 9].Write a program that prints the numbers from 10 to 1 in descending order, each on a new line.\n"
   ]
  },
  {
   "cell_type": "code",
   "execution_count": 43,
   "id": "91914968-e180-44e7-a32e-c3a93c4f5cc6",
   "metadata": {},
   "outputs": [
    {
     "name": "stdout",
     "output_type": "stream",
     "text": [
      "10\n",
      "9\n",
      "8\n",
      "7\n",
      "6\n",
      "5\n",
      "4\n",
      "3\n",
      "2\n",
      "1\n"
     ]
    }
   ],
   "source": [
    "x= 10\n",
    "while x >= 1:\n",
    "    print(x)\n",
    "    x=x-1"
   ]
  },
  {
   "cell_type": "markdown",
   "id": "9781775d-67cf-45fa-b516-87927e0be017",
   "metadata": {},
   "source": [
    "### 10].Count the number of vowels in a string using a for loop.\n",
    "**s2= \"Hello World\"**\n"
   ]
  },
  {
   "cell_type": "code",
   "execution_count": 48,
   "id": "0abae01b-0615-4a88-a72a-6bf6339e7df6",
   "metadata": {},
   "outputs": [
    {
     "name": "stdout",
     "output_type": "stream",
     "text": [
      "Number of vowels is 3\n"
     ]
    }
   ],
   "source": [
    "s2= \"Hello World\"\n",
    "L = ['a','e','i','o','u']\n",
    "count = 0\n",
    "for i in s2:\n",
    "    if i in L:\n",
    "        count = count+1\n",
    "print(\"Number of vowels is\", count)"
   ]
  },
  {
   "cell_type": "markdown",
   "id": "643011ae-9a11-4a0b-bda0-e954090ade3f",
   "metadata": {},
   "source": [
    "### 11].Display numbers from -10 to -1 using a for loop.\n"
   ]
  },
  {
   "cell_type": "code",
   "execution_count": 52,
   "id": "810bba8d-398d-4fcd-964b-294ebd01c595",
   "metadata": {},
   "outputs": [
    {
     "name": "stdout",
     "output_type": "stream",
     "text": [
      "-10\n",
      "-9\n",
      "-8\n",
      "-7\n",
      "-6\n",
      "-5\n",
      "-4\n",
      "-3\n",
      "-2\n",
      "-1\n"
     ]
    }
   ],
   "source": [
    "x= -10\n",
    "for i in range(-10,0):\n",
    "    if i <=0:\n",
    "        print(i)\n",
    "    x=x-1"
   ]
  },
  {
   "cell_type": "markdown",
   "id": "615c2ddf-b4bd-4dc1-a1fe-de61663a534a",
   "metadata": {},
   "source": [
    "### 12].Find all prime numbers between 1 and 50 using a for loop.\n"
   ]
  },
  {
   "cell_type": "code",
   "execution_count": 57,
   "id": "30c223af-92cc-46a0-a35b-9723558ca72b",
   "metadata": {},
   "outputs": [
    {
     "name": "stdout",
     "output_type": "stream",
     "text": [
      "2\n",
      "3\n",
      "5\n",
      "7\n",
      "11\n",
      "13\n",
      "17\n",
      "19\n",
      "23\n",
      "29\n",
      "31\n",
      "37\n",
      "41\n",
      "43\n",
      "47\n"
     ]
    }
   ],
   "source": [
    "for num in range(1, 51):\n",
    "    if num > 1: \n",
    "        for i in range(2, num):\n",
    "            if num % i == 0:\n",
    "                break\n",
    "        else:\n",
    "            print(num)"
   ]
  },
  {
   "cell_type": "markdown",
   "id": "d83a30e8-848c-4482-960b-b2dbc941569c",
   "metadata": {},
   "source": [
    "### 13].Print all uppercase letters in the string using a for loop.\n",
    "**s=”Innomatics Research Labs”**\n",
    "\n"
   ]
  },
  {
   "cell_type": "code",
   "execution_count": 63,
   "id": "181ba95a-a2ec-4f8e-b7d0-c20b1aa1a1ad",
   "metadata": {},
   "outputs": [
    {
     "name": "stdout",
     "output_type": "stream",
     "text": [
      "I\n",
      "R\n",
      "L\n"
     ]
    }
   ],
   "source": [
    "s = 'Innomatics Research Labs'\n",
    "for i in s:\n",
    "    if i.isupper():\n",
    "        print(i)"
   ]
  },
  {
   "cell_type": "code",
   "execution_count": null,
   "id": "8a8de8f1-5efb-4ce5-b1fd-babe7b842d81",
   "metadata": {},
   "outputs": [],
   "source": []
  }
 ],
 "metadata": {
  "kernelspec": {
   "display_name": "Python [conda env:base] *",
   "language": "python",
   "name": "conda-base-py"
  },
  "language_info": {
   "codemirror_mode": {
    "name": "ipython",
    "version": 3
   },
   "file_extension": ".py",
   "mimetype": "text/x-python",
   "name": "python",
   "nbconvert_exporter": "python",
   "pygments_lexer": "ipython3",
   "version": "3.12.7"
  }
 },
 "nbformat": 4,
 "nbformat_minor": 5
}
