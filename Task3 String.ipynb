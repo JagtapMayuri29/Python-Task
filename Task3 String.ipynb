{
 "cells": [
  {
   "cell_type": "markdown",
   "id": "c8ee9cdb-3225-4a80-adcd-2cb26b0e1f2a",
   "metadata": {},
   "source": [
    "## Task - 3 : String"
   ]
  },
  {
   "cell_type": "markdown",
   "id": "b19d942d-cd98-4b4f-96af-8cf773772b7f",
   "metadata": {},
   "source": [
    "### Q.1] Define Strings and its properties.\n",
    "### Ans:\n",
    "_In Python, strings are used for representing textual data. A string is a sequence of characters enclosed in either single quotes (‘’) or double quotes (“”)._\n",
    "\n",
    "_This includes letters, numbers, and symbols._\n",
    "\n",
    "### Properties:\n",
    "_1. add two string (concatenation) we need same datatypes// string addition is called concatenation and for and for addition process we need same datatypes._\n",
    "\n",
    "_2. multiply two string it can be done with int datatypes.// for string multiplication we need int need only int datatypes._\n",
    "\n"
   ]
  },
  {
   "cell_type": "markdown",
   "id": "3cbf81ca-eec4-4c5c-8a4f-02b2ecef7b50",
   "metadata": {},
   "source": [
    "### Q.2]How many characters are present in the below string\n",
    "### s = \"$python is fun, python is easy, but python is tough when you don't practice it revise it@\"\n",
    "\n"
   ]
  },
  {
   "cell_type": "code",
   "execution_count": 9,
   "id": "98c8b862-cf9d-40c7-b15d-177dd356c434",
   "metadata": {},
   "outputs": [
    {
     "data": {
      "text/plain": [
       "\"$python is fun, python is easy, but python is tough when you don't practice it revise it@\""
      ]
     },
     "execution_count": 9,
     "metadata": {},
     "output_type": "execute_result"
    }
   ],
   "source": [
    "s = \"$python is fun, python is easy, but python is tough when you don't practice it revise it@\"\n",
    "s"
   ]
  },
  {
   "cell_type": "code",
   "execution_count": 13,
   "id": "7f57a69f-5e61-433d-aa19-c77efddbcaab",
   "metadata": {},
   "outputs": [
    {
     "data": {
      "text/plain": [
       "89"
      ]
     },
     "execution_count": 13,
     "metadata": {},
     "output_type": "execute_result"
    }
   ],
   "source": [
    "len(s)"
   ]
  },
  {
   "cell_type": "markdown",
   "id": "8068e239-04ad-40f2-b56b-fad304ce5b4e",
   "metadata": {},
   "source": [
    "### Ans:89"
   ]
  },
  {
   "cell_type": "markdown",
   "id": "53053a4c-ed38-4d15-873a-37bcdc857ece",
   "metadata": {},
   "source": [
    "### Q.3]Access the First word 'python' using positive indexing.\n",
    "### Ans:"
   ]
  },
  {
   "cell_type": "code",
   "execution_count": 19,
   "id": "18d64305-20e9-4529-ad85-571ea7a998c2",
   "metadata": {},
   "outputs": [
    {
     "data": {
      "text/plain": [
       "\"$python is fun, python is easy, but python is tough when you don't practice it revise it@\""
      ]
     },
     "execution_count": 19,
     "metadata": {},
     "output_type": "execute_result"
    }
   ],
   "source": [
    "s = \"$python is fun, python is easy, but python is tough when you don't practice it revise it@\"\n",
    "s"
   ]
  },
  {
   "cell_type": "code",
   "execution_count": 25,
   "id": "d29df359-60c8-4c96-be0a-a371a8a4e65a",
   "metadata": {},
   "outputs": [
    {
     "data": {
      "text/plain": [
       "'python'"
      ]
     },
     "execution_count": 25,
     "metadata": {},
     "output_type": "execute_result"
    }
   ],
   "source": [
    "s[1:7]"
   ]
  },
  {
   "cell_type": "markdown",
   "id": "b8c94654-2718-4832-8358-6f2fe244fa77",
   "metadata": {},
   "source": [
    "### Q.4]Access the words 'revise it' using negative indexing\n",
    "### Ans:"
   ]
  },
  {
   "cell_type": "code",
   "execution_count": 28,
   "id": "8e44d921-3409-4ea3-ad57-f07fbc678a94",
   "metadata": {},
   "outputs": [
    {
     "data": {
      "text/plain": [
       "\"$python is fun, python is easy, but python is tough when you don't practice it revise it@\""
      ]
     },
     "execution_count": 28,
     "metadata": {},
     "output_type": "execute_result"
    }
   ],
   "source": [
    "s = \"$python is fun, python is easy, but python is tough when you don't practice it revise it@\"\n",
    "s"
   ]
  },
  {
   "cell_type": "code",
   "execution_count": 52,
   "id": "e3122846-b20f-4303-8eaa-b06bfa928bb8",
   "metadata": {},
   "outputs": [
    {
     "data": {
      "text/plain": [
       "'revise it'"
      ]
     },
     "execution_count": 52,
     "metadata": {},
     "output_type": "execute_result"
    }
   ],
   "source": [
    "s[-10:-1]"
   ]
  },
  {
   "cell_type": "markdown",
   "id": "5e7e2af8-5710-4a53-900e-b2fe2cef4882",
   "metadata": {},
   "source": [
    "### Q.5]Access “Python is easy”."
   ]
  },
  {
   "cell_type": "code",
   "execution_count": 40,
   "id": "fb4de4d8-4a24-4421-b269-dc30fef79372",
   "metadata": {},
   "outputs": [
    {
     "data": {
      "text/plain": [
       "\"$python is fun, python is easy, but python is tough when you don't practice it revise it@\""
      ]
     },
     "execution_count": 40,
     "metadata": {},
     "output_type": "execute_result"
    }
   ],
   "source": [
    "s = \"$python is fun, python is easy, but python is tough when you don't practice it revise it@\"\n",
    "s"
   ]
  },
  {
   "cell_type": "markdown",
   "id": "ac3d99de-9e95-4003-b922-f522317261c9",
   "metadata": {},
   "source": [
    "### Ans:"
   ]
  },
  {
   "cell_type": "code",
   "execution_count": 46,
   "id": "17a1bda8-a2eb-4eef-936b-65b711b3abd2",
   "metadata": {},
   "outputs": [
    {
     "data": {
      "text/plain": [
       "'python is easy'"
      ]
     },
     "execution_count": 46,
     "metadata": {},
     "output_type": "execute_result"
    }
   ],
   "source": [
    "s[16:30]"
   ]
  },
  {
   "cell_type": "markdown",
   "id": "2861e4b2-41c1-4b77-855f-9df46901a9d0",
   "metadata": {},
   "source": [
    "### Q.6]Write a program that takes a sentence ='Give papa a cup of proper coffee in a copper coffee cup' as input and replaces all occurrences of the word \"coffee\" with \"tea\".\n",
    "### 1. Check if the above sentence starts with \"Hello\" and ends with \"cup\". \n",
    "### 2. Return the above sentence in title case and capital case.\n"
   ]
  },
  {
   "cell_type": "code",
   "execution_count": 61,
   "id": "cc010798-4126-4a97-9a41-a42c1663dc60",
   "metadata": {},
   "outputs": [
    {
     "data": {
      "text/plain": [
       "'Give papa a cup of proper coffee in a copper coffee cup'"
      ]
     },
     "execution_count": 61,
     "metadata": {},
     "output_type": "execute_result"
    }
   ],
   "source": [
    "s = 'Give papa a cup of proper coffee in a copper coffee cup'\n",
    "s"
   ]
  },
  {
   "cell_type": "markdown",
   "id": "2a195469-4f36-4015-9a1d-33a5198cdeef",
   "metadata": {},
   "source": [
    "**a] replaces all occurrences of the word \"coffee\" with \"tea\".¶**"
   ]
  },
  {
   "cell_type": "code",
   "execution_count": 68,
   "id": "bf3099d1-5647-45ca-aa7f-e65e8234fb22",
   "metadata": {},
   "outputs": [
    {
     "data": {
      "text/plain": [
       "'Give papa a cup of proper tea in a copper tea cup'"
      ]
     },
     "execution_count": 68,
     "metadata": {},
     "output_type": "execute_result"
    }
   ],
   "source": [
    "s.replace('coffee','tea')"
   ]
  },
  {
   "cell_type": "markdown",
   "id": "9b34e0a4-0fc5-440b-b87a-892fbdb8467b",
   "metadata": {},
   "source": [
    "**b]  Check if the above sentence starts with \"Hello\" and ends with \"cup\".¶**"
   ]
  },
  {
   "cell_type": "code",
   "execution_count": 73,
   "id": "10810444-0282-425d-bd2c-2b4f14409b82",
   "metadata": {},
   "outputs": [
    {
     "data": {
      "text/plain": [
       "'Give papa a cup of proper coffee in a copper coffee cup'"
      ]
     },
     "execution_count": 73,
     "metadata": {},
     "output_type": "execute_result"
    }
   ],
   "source": [
    "s = 'Give papa a cup of proper coffee in a copper coffee cup'\n",
    "s"
   ]
  },
  {
   "cell_type": "code",
   "execution_count": 78,
   "id": "ae158977-9438-4fd7-b552-660a8b9bce70",
   "metadata": {},
   "outputs": [
    {
     "data": {
      "text/plain": [
       "False"
      ]
     },
     "execution_count": 78,
     "metadata": {},
     "output_type": "execute_result"
    }
   ],
   "source": [
    "s.startswith('Hello')"
   ]
  },
  {
   "cell_type": "code",
   "execution_count": 80,
   "id": "4fd02e29-962c-4246-9639-e576ae004a21",
   "metadata": {},
   "outputs": [
    {
     "data": {
      "text/plain": [
       "True"
      ]
     },
     "execution_count": 80,
     "metadata": {},
     "output_type": "execute_result"
    }
   ],
   "source": [
    "s.endswith('cup')"
   ]
  },
  {
   "cell_type": "markdown",
   "id": "e32bf366-9990-4892-93a5-8c35b93db002",
   "metadata": {},
   "source": [
    "**c] Return the above sentence in title case and capital case.**\n"
   ]
  },
  {
   "cell_type": "code",
   "execution_count": 86,
   "id": "ba1255fb-ecd2-488e-913a-8082dca31a4c",
   "metadata": {},
   "outputs": [],
   "source": [
    "s = 'Give papa a cup of proper coffee in a copper coffee cup'"
   ]
  },
  {
   "cell_type": "code",
   "execution_count": 100,
   "id": "821aaad0-e3c1-4380-82e1-2f8199b6cab8",
   "metadata": {},
   "outputs": [
    {
     "data": {
      "text/plain": [
       "'GIVE PAPA A CUP OF PROPER COFFEE IN A COPPER COFFEE CUP'"
      ]
     },
     "execution_count": 100,
     "metadata": {},
     "output_type": "execute_result"
    }
   ],
   "source": [
    "s.upper()"
   ]
  },
  {
   "cell_type": "code",
   "execution_count": 102,
   "id": "6b106982-3d1d-4360-8646-e6645fc76fb0",
   "metadata": {},
   "outputs": [
    {
     "data": {
      "text/plain": [
       "'Give Papa A Cup Of Proper Coffee In A Copper Coffee Cup'"
      ]
     },
     "execution_count": 102,
     "metadata": {},
     "output_type": "execute_result"
    }
   ],
   "source": [
    "s.title()"
   ]
  },
  {
   "cell_type": "markdown",
   "id": "b7b5cb52-6d04-40c7-8146-684ff8a740a6",
   "metadata": {},
   "source": [
    "### Q.7]Convert the below sentence into uppercase and count how many times the letter ‘P’ is repeated.\n",
    "### Now, convert the whole string into lowercase and find the index of letter ‘c’.\n",
    "### lis = ['I','want','to','become','Data','Scientist']\n",
    "\n",
    "**s = 'Give papa a cup of proper coffee in a copper coffee cup'**\n"
   ]
  },
  {
   "cell_type": "code",
   "execution_count": 156,
   "id": "cccf23e3-74d1-4f8b-a5d3-f14de08f43b4",
   "metadata": {},
   "outputs": [],
   "source": [
    "#Convert the below sentence into uppercase and count how many times the letter ‘P’ is repeated.\n",
    "s = 'Give papa a cup of proper coffee in a copper coffee cup'"
   ]
  },
  {
   "cell_type": "code",
   "execution_count": 106,
   "id": "04e19d85-735a-4d47-9c0b-d7a63b360c1f",
   "metadata": {},
   "outputs": [
    {
     "data": {
      "text/plain": [
       "'GIVE PAPA A CUP OF PROPER COFFEE IN A COPPER COFFEE CUP'"
      ]
     },
     "execution_count": 106,
     "metadata": {},
     "output_type": "execute_result"
    }
   ],
   "source": [
    "s.upper()"
   ]
  },
  {
   "cell_type": "code",
   "execution_count": 115,
   "id": "4355604b-933a-4530-80bc-bb4b6a2f6514",
   "metadata": {},
   "outputs": [
    {
     "data": {
      "text/plain": [
       "0"
      ]
     },
     "execution_count": 115,
     "metadata": {},
     "output_type": "execute_result"
    }
   ],
   "source": [
    "s.count('P')"
   ]
  },
  {
   "cell_type": "code",
   "execution_count": 118,
   "id": "651002b9-8b98-4ce0-b19e-05541ed7583b",
   "metadata": {},
   "outputs": [
    {
     "data": {
      "text/plain": [
       "'give papa a cup of proper coffee in a copper coffee cup'"
      ]
     },
     "execution_count": 118,
     "metadata": {},
     "output_type": "execute_result"
    }
   ],
   "source": [
    "#Now, convert the whole string into lowercase and find the index of letter ‘c’.\n",
    "s.lower()"
   ]
  },
  {
   "cell_type": "code",
   "execution_count": 120,
   "id": "1cdabce0-13dc-4e18-8b94-c13133e8f79a",
   "metadata": {},
   "outputs": [
    {
     "data": {
      "text/plain": [
       "12"
      ]
     },
     "execution_count": 120,
     "metadata": {},
     "output_type": "execute_result"
    }
   ],
   "source": [
    "s.index('c')"
   ]
  },
  {
   "cell_type": "markdown",
   "id": "af380f5a-f55b-4e36-8e6f-3a05bf6b64b2",
   "metadata": {},
   "source": [
    "### Q.8]lis = ['I','want','to','become','Data','Scientist']\n",
    "### join the above list using join() function\n",
    "**Create a variable to store the string \"Earth revolves around the sun\"**\n",
    "\n",
    "**Print \"revolves\" using slice operator**\n",
    "\n",
    "**Print \"sun\" using negative index**\n"
   ]
  },
  {
   "cell_type": "code",
   "execution_count": 127,
   "id": "02e4fadc-0abc-457b-950f-82070c02eace",
   "metadata": {},
   "outputs": [
    {
     "data": {
      "text/plain": [
       "'I want to become Data Scientist'"
      ]
     },
     "execution_count": 127,
     "metadata": {},
     "output_type": "execute_result"
    }
   ],
   "source": [
    "#lis = ['I','want','to','become','Data','Scientist']\n",
    "#join the above list using join() function\n",
    "lis = ['I','want','to','become','Data','Scientist']\n",
    "\" \".join(lis)\n"
   ]
  },
  {
   "cell_type": "code",
   "execution_count": 133,
   "id": "631432a1-9780-4d7b-b6ad-dbe605d1cfa1",
   "metadata": {},
   "outputs": [
    {
     "data": {
      "text/plain": [
       "'Earth revolves around the sun'"
      ]
     },
     "execution_count": 133,
     "metadata": {},
     "output_type": "execute_result"
    }
   ],
   "source": [
    "#Create a variable to store the string \"Earth revolves around the sun'\n",
    "\n",
    "string = 'Earth revolves around the sun'\n",
    "string"
   ]
  },
  {
   "cell_type": "code",
   "execution_count": 135,
   "id": "c0c44eda-2f88-4b2a-b0ab-cdb528cf13e4",
   "metadata": {},
   "outputs": [
    {
     "data": {
      "text/plain": [
       "'revolves'"
      ]
     },
     "execution_count": 135,
     "metadata": {},
     "output_type": "execute_result"
    }
   ],
   "source": [
    "#Print \"revolves\" using slice operator\n",
    "string[6:14]"
   ]
  },
  {
   "cell_type": "code",
   "execution_count": 146,
   "id": "6cd21a09-f886-49a0-b910-a1266f926acc",
   "metadata": {},
   "outputs": [
    {
     "data": {
      "text/plain": [
       "'sun'"
      ]
     },
     "execution_count": 146,
     "metadata": {},
     "output_type": "execute_result"
    }
   ],
   "source": [
    "#Print \"sun\" using negative index\n",
    "string[-3:]"
   ]
  },
  {
   "cell_type": "markdown",
   "id": "8829537d-d41c-4b8c-a2e9-e61f22bfb1c8",
   "metadata": {},
   "source": [
    "### Q.9]create two variables to store how many fruits and vegetables you eat in a day.\n",
    "### Now, Print \"I eat x veggies and y fruits daily\" where x and y presents vegetables and fruits that you eat everyday.\n"
   ]
  },
  {
   "cell_type": "code",
   "execution_count": 152,
   "id": "942076aa-312a-40c9-ba17-8dcd8fd034a5",
   "metadata": {},
   "outputs": [
    {
     "name": "stdout",
     "output_type": "stream",
     "text": [
      "I eat 3 veggies and 2 fruits daily.\n"
     ]
    }
   ],
   "source": [
    "vegetables = 3\n",
    "fruits = 2 \n",
    "\n",
    "print(f\"I eat {vegetables} veggies and {fruits} fruits daily.\")"
   ]
  },
  {
   "cell_type": "markdown",
   "id": "8bfb5550-34c3-4441-96ed-de579dc8e3f1",
   "metadata": {},
   "source": [
    "### Q.10]Explore all string methods from documentation or use dir() function and write one line explanation for each method.\n",
    "\n"
   ]
  },
  {
   "cell_type": "code",
   "execution_count": 163,
   "id": "44eef23e-ddfd-42af-b336-2dc1362753bd",
   "metadata": {},
   "outputs": [
    {
     "data": {
      "text/plain": [
       "['__add__',\n",
       " '__class__',\n",
       " '__contains__',\n",
       " '__delattr__',\n",
       " '__dir__',\n",
       " '__doc__',\n",
       " '__eq__',\n",
       " '__format__',\n",
       " '__ge__',\n",
       " '__getattribute__',\n",
       " '__getitem__',\n",
       " '__getnewargs__',\n",
       " '__getstate__',\n",
       " '__gt__',\n",
       " '__hash__',\n",
       " '__init__',\n",
       " '__init_subclass__',\n",
       " '__iter__',\n",
       " '__le__',\n",
       " '__len__',\n",
       " '__lt__',\n",
       " '__mod__',\n",
       " '__mul__',\n",
       " '__ne__',\n",
       " '__new__',\n",
       " '__reduce__',\n",
       " '__reduce_ex__',\n",
       " '__repr__',\n",
       " '__rmod__',\n",
       " '__rmul__',\n",
       " '__setattr__',\n",
       " '__sizeof__',\n",
       " '__str__',\n",
       " '__subclasshook__',\n",
       " 'capitalize',\n",
       " 'casefold',\n",
       " 'center',\n",
       " 'count',\n",
       " 'encode',\n",
       " 'endswith',\n",
       " 'expandtabs',\n",
       " 'find',\n",
       " 'format',\n",
       " 'format_map',\n",
       " 'index',\n",
       " 'isalnum',\n",
       " 'isalpha',\n",
       " 'isascii',\n",
       " 'isdecimal',\n",
       " 'isdigit',\n",
       " 'isidentifier',\n",
       " 'islower',\n",
       " 'isnumeric',\n",
       " 'isprintable',\n",
       " 'isspace',\n",
       " 'istitle',\n",
       " 'isupper',\n",
       " 'join',\n",
       " 'ljust',\n",
       " 'lower',\n",
       " 'lstrip',\n",
       " 'maketrans',\n",
       " 'partition',\n",
       " 'removeprefix',\n",
       " 'removesuffix',\n",
       " 'replace',\n",
       " 'rfind',\n",
       " 'rindex',\n",
       " 'rjust',\n",
       " 'rpartition',\n",
       " 'rsplit',\n",
       " 'rstrip',\n",
       " 'split',\n",
       " 'splitlines',\n",
       " 'startswith',\n",
       " 'strip',\n",
       " 'swapcase',\n",
       " 'title',\n",
       " 'translate',\n",
       " 'upper',\n",
       " 'zfill']"
      ]
     },
     "execution_count": 163,
     "metadata": {},
     "output_type": "execute_result"
    }
   ],
   "source": [
    "dir(str)"
   ]
  },
  {
   "cell_type": "markdown",
   "id": "e137a4ef-253a-4b9e-998d-4c508ca642ed",
   "metadata": {},
   "source": [
    "capitalize() – Converts the first character of the string to uppercase.\n",
    "\n",
    "endswith(suffix, start, end) – Checks if the string ends with a specified suffix.\n",
    "\n",
    "index(sub, start, end) – Returns the lowest index of a substring, raises an error if not found.\n",
    "\n",
    "isalnum() – Checks if all characters in the string are alphanumeric.\n",
    "\n",
    "isalpha() – Checks if all characters in the string are alphabetic.\n",
    "\n",
    "islower() – Checks if all characters are lowercase.\n",
    "\n",
    "istitle() – Checks if the string follows title case (Each Word Capitalized).\n",
    "\n",
    "join(iterable) – Joins elements of an iterable (list, tuple) into a string.\n",
    "\n",
    "split(sep, maxsplit) – Splits the string into a list using a separator.\n",
    "\n",
    "title() – Converts the string to title case.\n",
    "\n",
    "upper() – Converts the string to uppercase.\n"
   ]
  },
  {
   "cell_type": "code",
   "execution_count": null,
   "id": "81ccc1ae-8c21-4e42-b775-03d838d4ee5b",
   "metadata": {},
   "outputs": [],
   "source": []
  }
 ],
 "metadata": {
  "kernelspec": {
   "display_name": "Python [conda env:base] *",
   "language": "python",
   "name": "conda-base-py"
  },
  "language_info": {
   "codemirror_mode": {
    "name": "ipython",
    "version": 3
   },
   "file_extension": ".py",
   "mimetype": "text/x-python",
   "name": "python",
   "nbconvert_exporter": "python",
   "pygments_lexer": "ipython3",
   "version": "3.12.7"
  }
 },
 "nbformat": 4,
 "nbformat_minor": 5
}
