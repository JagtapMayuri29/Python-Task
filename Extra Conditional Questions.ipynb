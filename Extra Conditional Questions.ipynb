{
 "cells": [
  {
   "cell_type": "markdown",
   "id": "39426e60-b8fd-4ea6-95c6-1df7f02ac162",
   "metadata": {},
   "source": [
    "### Extra Questions"
   ]
  },
  {
   "cell_type": "markdown",
   "id": "a5cf5817-e439-428c-9004-54f2993c759c",
   "metadata": {},
   "source": [
    "### 1.]Write a Python program that takes a number as input and check if it is positive,negative or zero.\n",
    "**Input = 5**\n",
    "\n",
    "**Output = Positive**"
   ]
  },
  {
   "cell_type": "code",
   "execution_count": 6,
   "id": "41bc0eee-ea1b-48ec-ad2d-f03091ff9526",
   "metadata": {},
   "outputs": [
    {
     "name": "stdin",
     "output_type": "stream",
     "text": [
      "Enter the Number 5\n"
     ]
    },
    {
     "name": "stdout",
     "output_type": "stream",
     "text": [
      "Number is Positive 5\n"
     ]
    }
   ],
   "source": [
    "#Answer\n",
    "x = int(input('Enter the Number'))\n",
    "if x > 0:\n",
    "    print('Number is Positive',(x))\n",
    "elif x < 0:\n",
    "    print('Number is Negative',(x))\n",
    "else:\n",
    "    print('Number is zero',(x))"
   ]
  },
  {
   "cell_type": "markdown",
   "id": "3ef2d2de-15db-4a17-890c-7c13310631e2",
   "metadata": {},
   "source": [
    "### 2.]Write a Python program that check whether the given number is even or odd.\n",
    "**Input = 10**\n",
    "\n",
    "**Output = Even**"
   ]
  },
  {
   "cell_type": "code",
   "execution_count": 44,
   "id": "a34a555e-dbdc-4cbe-89e6-d34e0bb1bb95",
   "metadata": {},
   "outputs": [
    {
     "name": "stdout",
     "output_type": "stream",
     "text": [
      "The Given Number is Even 10\n"
     ]
    }
   ],
   "source": [
    "#Answer\n",
    "x = 10\n",
    "if x % 2 == 0:\n",
    "    print('The Given Number is Even',(x))\n",
    "else:\n",
    "    print('The Given Number is odd is Odd',(x))"
   ]
  },
  {
   "cell_type": "markdown",
   "id": "1c161258-d5c3-496a-9f94-f526b7146f4d",
   "metadata": {},
   "source": [
    "### 3.] Write a Python program that ask for users age and checks if they are eligible to vote. (18 or older)\n",
    "**Input = 20**\n",
    "\n",
    "**Output = Eligible to vote**"
   ]
  },
  {
   "cell_type": "code",
   "execution_count": 51,
   "id": "b4b7439a-69ff-44cd-925c-177caf340660",
   "metadata": {},
   "outputs": [
    {
     "name": "stdin",
     "output_type": "stream",
     "text": [
      "Enter your Age 20\n"
     ]
    },
    {
     "name": "stdout",
     "output_type": "stream",
     "text": [
      "Your are Eligible\n"
     ]
    }
   ],
   "source": [
    "#Answer\n",
    "x = int(input('Enter your Age'))\n",
    "if x >=18:\n",
    "    print('Your are Eligible')\n",
    "else:\n",
    "    print('You are not Eligible to vote')"
   ]
  },
  {
   "cell_type": "markdown",
   "id": "ebf51d6f-613d-48c8-996d-d7cc67ba354e",
   "metadata": {},
   "source": [
    "### 4.]Write a Python program that takes an integer and check if its divisible by 3.\n",
    "**Input = 9**\n",
    "\n",
    "**Output = Divisible by 3**"
   ]
  },
  {
   "cell_type": "code",
   "execution_count": 93,
   "id": "f19040aa-7692-45b0-a22a-be79e82f6a53",
   "metadata": {},
   "outputs": [
    {
     "name": "stdin",
     "output_type": "stream",
     "text": [
      "Enter the Number 9\n"
     ]
    },
    {
     "name": "stdout",
     "output_type": "stream",
     "text": [
      "Number is Divisible by 3\n"
     ]
    }
   ],
   "source": [
    "x = int(input('Enter the Number'))\n",
    "if x % 3 == 0:\n",
    "    print('Number is Divisible by 3')\n",
    "else:\n",
    "    print('Number is not Divisible by 3')"
   ]
  },
  {
   "cell_type": "markdown",
   "id": "a5f9f632-5aae-435c-8c6b-750b9431278b",
   "metadata": {},
   "source": [
    "### 5.]Write a Python program to check if number is multiple of both 5 and 10.\n",
    "**Input = 20**\n",
    "\n",
    "**Output = Multiple by both 5 and 10**"
   ]
  },
  {
   "cell_type": "code",
   "execution_count": 97,
   "id": "192d0254-a5ad-4e0f-872b-358ef9bba9e5",
   "metadata": {},
   "outputs": [
    {
     "name": "stdin",
     "output_type": "stream",
     "text": [
      "Enter the Number 20\n"
     ]
    },
    {
     "name": "stdout",
     "output_type": "stream",
     "text": [
      "Number is Multiple both by 5 and 10\n"
     ]
    }
   ],
   "source": [
    "x = int(input('Enter the Number'))\n",
    "if x % 5 == 0 and x % 10 == 0:\n",
    "    print('Number is Multiple both by 5 and 10')\n",
    "else:\n",
    "    print('Number is not Multiple of both 5 and 10')"
   ]
  },
  {
   "cell_type": "markdown",
   "id": "969e5b1b-bdb5-4f6f-93da-fba46db5774d",
   "metadata": {},
   "source": [
    "### 6.]Write a Python program that check whether number is positive, negative or zero.\n",
    "**Input = -3**\n",
    "\n",
    "**Output = Negative**"
   ]
  },
  {
   "cell_type": "code",
   "execution_count": 85,
   "id": "eca97eac-3fc4-4cdc-a15b-4cd945559d0e",
   "metadata": {},
   "outputs": [
    {
     "name": "stdin",
     "output_type": "stream",
     "text": [
      "Enter the Number -3\n"
     ]
    },
    {
     "name": "stdout",
     "output_type": "stream",
     "text": [
      "Number is Negative -3\n"
     ]
    }
   ],
   "source": [
    "#Answer\n",
    "x = int(input('Enter the Number'))\n",
    "if x > 0:\n",
    "    print('Number is Positive',(x))\n",
    "elif x < 0:\n",
    "    print('Number is Negative',(x))\n",
    "else:\n",
    "    print('Number is zero',(x))"
   ]
  },
  {
   "cell_type": "markdown",
   "id": "7019cac3-f08e-4ca6-962f-234fe3850834",
   "metadata": {},
   "source": [
    "### 7.]Write a Python program to check whether the given number is divisible by 2 or 5.\n",
    "**Input = 10**\n",
    "\n",
    "**Output =Divisible by 2 or 5**"
   ]
  },
  {
   "cell_type": "code",
   "execution_count": 111,
   "id": "a017a885-3078-4aed-810f-94f10f71292c",
   "metadata": {},
   "outputs": [
    {
     "name": "stdin",
     "output_type": "stream",
     "text": [
      "Enter the Number 10\n"
     ]
    },
    {
     "name": "stdout",
     "output_type": "stream",
     "text": [
      "Number is Divisible by 2 or 5\n"
     ]
    }
   ],
   "source": [
    "#Answer\n",
    "x = int(input('Enter the Number'))\n",
    "if x % 2 == 0 or x % 5 == 0:\n",
    "    print('Number is Divisible by 2 or 5')\n",
    "else:\n",
    "    print('Number is not Divisible by 2 or 5')"
   ]
  },
  {
   "cell_type": "markdown",
   "id": "b34fe399-f832-4e9b-a1e8-e33cf2a41ebb",
   "metadata": {},
   "source": [
    "### 8.]Write a Python program that asks the user to enter their name and prints a greeting message: \"Hello, [name]!\" \n",
    "**Input = Alice**\n",
    "\n",
    "**Output = Hello, Alice!**"
   ]
  },
  {
   "cell_type": "code",
   "execution_count": 135,
   "id": "dd067308-4877-4800-b175-f253a9294909",
   "metadata": {},
   "outputs": [
    {
     "name": "stdin",
     "output_type": "stream",
     "text": [
      "Enter Your Name Alice\n"
     ]
    },
    {
     "name": "stdout",
     "output_type": "stream",
     "text": [
      "Hello, Alice!\n"
     ]
    }
   ],
   "source": [
    "#Answer\n",
    "name = input('Enter Your Name')\n",
    "print('Hello, {}!'.format(name))"
   ]
  },
  {
   "cell_type": "markdown",
   "id": "878adaa4-7d77-425d-93ca-0d5cb5b54fbb",
   "metadata": {},
   "source": [
    "### 9.]Write a Python program that checks whether a given number is greater than 100. \n",
    "\n",
    "**Input = 150**\n",
    "\n",
    "**Output = Greater than 100**"
   ]
  },
  {
   "cell_type": "code",
   "execution_count": 145,
   "id": "a4c58856-d39e-4d01-ba17-7d8031b54a0b",
   "metadata": {},
   "outputs": [
    {
     "name": "stdin",
     "output_type": "stream",
     "text": [
      "Enter the number.. 150\n"
     ]
    },
    {
     "name": "stdout",
     "output_type": "stream",
     "text": [
      "Number is greater than 100\n"
     ]
    }
   ],
   "source": [
    "x = int(input('Enter the number..'))\n",
    "if x > 100:\n",
    "    print('Number is greater than 100')\n",
    "else:\n",
    "    print('Number is not Greater than 100')"
   ]
  },
  {
   "cell_type": "markdown",
   "id": "46dfda28-70c9-4db1-ae3f-4d6772fe21c9",
   "metadata": {},
   "source": [
    "### 10.]Write a Python program that checks if a number is between 10 and 20 (inclusive). \n",
    "\n",
    "**Input: 15**\n",
    "\n",
    "**Output: Between 10 and 20**"
   ]
  },
  {
   "cell_type": "code",
   "execution_count": 160,
   "id": "00ead260-23e9-4d72-8764-45b8e9edbcf4",
   "metadata": {},
   "outputs": [
    {
     "name": "stdin",
     "output_type": "stream",
     "text": [
      "Enter the Number 15\n"
     ]
    },
    {
     "name": "stdout",
     "output_type": "stream",
     "text": [
      "between 10 and 20\n"
     ]
    }
   ],
   "source": [
    "x = int(input('Enter the Number'))\n",
    "if 10 <= x <= 20:\n",
    "    print(\"between 10 and 20\")\n",
    "else:\n",
    "    print(\"not between 10 and 20\")\n"
   ]
  },
  {
   "cell_type": "code",
   "execution_count": null,
   "id": "66f054e6-3a49-484e-9a7b-b44e5d01a38e",
   "metadata": {},
   "outputs": [],
   "source": []
  }
 ],
 "metadata": {
  "kernelspec": {
   "display_name": "Python [conda env:base] *",
   "language": "python",
   "name": "conda-base-py"
  },
  "language_info": {
   "codemirror_mode": {
    "name": "ipython",
    "version": 3
   },
   "file_extension": ".py",
   "mimetype": "text/x-python",
   "name": "python",
   "nbconvert_exporter": "python",
   "pygments_lexer": "ipython3",
   "version": "3.12.7"
  }
 },
 "nbformat": 4,
 "nbformat_minor": 5
}
