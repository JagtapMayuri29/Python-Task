{
 "cells": [
  {
   "cell_type": "markdown",
   "id": "7ed74fbf-508d-47e2-b89e-5ef7eb2792f1",
   "metadata": {},
   "source": [
    "### Q.1] Define List, properties and its methods and try to write an example for each of the methods."
   ]
  },
  {
   "cell_type": "markdown",
   "id": "bf17deaa-a8a5-4ebf-bf84-1b47cde97e92",
   "metadata": {},
   "source": [
    "Lists are used to store multiple items in a single variable.\n",
    "Lists are created using square brackets.\n",
    "A Python list is a dynamic,mutable ordered collection of elements enclosed within square brackets [].\n",
    "\n",
    "**Properties and its methods**\n",
    "**Properties**\n",
    " 1. concatenation\n",
    " 2. multiplication\n"
   ]
  },
  {
   "cell_type": "code",
   "execution_count": 100,
   "id": "3a769353-9fbc-411e-9798-8cc70ece8cf7",
   "metadata": {},
   "outputs": [
    {
     "data": {
      "text/plain": [
       "[10, 20, 30, 40, 50]"
      ]
     },
     "execution_count": 100,
     "metadata": {},
     "output_type": "execute_result"
    }
   ],
   "source": [
    "#concatenation\n",
    "[10,20,30] + [40,50]"
   ]
  },
  {
   "cell_type": "code",
   "execution_count": 101,
   "id": "18b82774-9e6a-46e2-a09f-e9a37cf7b83d",
   "metadata": {},
   "outputs": [
    {
     "data": {
      "text/plain": [
       "[10, 20, 30, 10, 20, 30, 10, 20, 30]"
      ]
     },
     "execution_count": 101,
     "metadata": {},
     "output_type": "execute_result"
    }
   ],
   "source": [
    "#multiplication\n",
    "[10,20,30]*3"
   ]
  },
  {
   "cell_type": "code",
   "execution_count": 102,
   "id": "efb1159e-c9d1-457a-afbe-580f7b3afab1",
   "metadata": {},
   "outputs": [
    {
     "data": {
      "text/plain": [
       "[10, 20, 30, 40, 50]"
      ]
     },
     "execution_count": 102,
     "metadata": {},
     "output_type": "execute_result"
    }
   ],
   "source": [
    "#Methods\n",
    "L = [10,20,30,40,50]\n",
    "L"
   ]
  },
  {
   "cell_type": "code",
   "execution_count": 103,
   "id": "002d919e-bc2c-439a-8d18-cdaef9240b3a",
   "metadata": {},
   "outputs": [
    {
     "data": {
      "text/plain": [
       "['__add__',\n",
       " '__class__',\n",
       " '__class_getitem__',\n",
       " '__contains__',\n",
       " '__delattr__',\n",
       " '__delitem__',\n",
       " '__dir__',\n",
       " '__doc__',\n",
       " '__eq__',\n",
       " '__format__',\n",
       " '__ge__',\n",
       " '__getattribute__',\n",
       " '__getitem__',\n",
       " '__getstate__',\n",
       " '__gt__',\n",
       " '__hash__',\n",
       " '__iadd__',\n",
       " '__imul__',\n",
       " '__init__',\n",
       " '__init_subclass__',\n",
       " '__iter__',\n",
       " '__le__',\n",
       " '__len__',\n",
       " '__lt__',\n",
       " '__mul__',\n",
       " '__ne__',\n",
       " '__new__',\n",
       " '__reduce__',\n",
       " '__reduce_ex__',\n",
       " '__repr__',\n",
       " '__reversed__',\n",
       " '__rmul__',\n",
       " '__setattr__',\n",
       " '__setitem__',\n",
       " '__sizeof__',\n",
       " '__str__',\n",
       " '__subclasshook__',\n",
       " 'append',\n",
       " 'clear',\n",
       " 'copy',\n",
       " 'count',\n",
       " 'extend',\n",
       " 'index',\n",
       " 'insert',\n",
       " 'pop',\n",
       " 'remove',\n",
       " 'reverse',\n",
       " 'sort']"
      ]
     },
     "execution_count": 103,
     "metadata": {},
     "output_type": "execute_result"
    }
   ],
   "source": [
    "dir(L)"
   ]
  },
  {
   "cell_type": "code",
   "execution_count": 104,
   "id": "96a44103-b10b-4979-a2a6-9f48fa3ac35a",
   "metadata": {},
   "outputs": [
    {
     "data": {
      "text/plain": [
       "[10, 20, 30, 40, 50, 60]"
      ]
     },
     "execution_count": 104,
     "metadata": {},
     "output_type": "execute_result"
    }
   ],
   "source": [
    "# 1. Append = add new value at the end of list\n",
    "L.append(60)\n",
    "L"
   ]
  },
  {
   "cell_type": "code",
   "execution_count": 105,
   "id": "d5255157-0b95-420a-9dd0-83960b357c87",
   "metadata": {},
   "outputs": [
    {
     "data": {
      "text/plain": [
       "[10, 20, 30, 40, 65, 50, 60]"
      ]
     },
     "execution_count": 105,
     "metadata": {},
     "output_type": "execute_result"
    }
   ],
   "source": [
    "# 2. Insert = insert allow to add element at our choice of index value \n",
    "#             insert makes changes in orignal source\n",
    "L.insert(4,65)\n",
    "L"
   ]
  },
  {
   "cell_type": "code",
   "execution_count": 106,
   "id": "299db220-82c3-454e-8e17-34ce917ad3dc",
   "metadata": {},
   "outputs": [
    {
     "data": {
      "text/plain": [
       "[10, 20, 30, 40, 65, 50, 60, 150, 200]"
      ]
     },
     "execution_count": 106,
     "metadata": {},
     "output_type": "execute_result"
    }
   ],
   "source": [
    "# 3.Extend = extend allows to add multiple value at a time at end of list\n",
    "L.extend([150,200])\n",
    "L"
   ]
  },
  {
   "cell_type": "code",
   "execution_count": 117,
   "id": "a1fe7d17-67bd-4365-8a2c-dd7d39620a00",
   "metadata": {},
   "outputs": [
    {
     "data": {
      "text/plain": [
       "[10, 20, 30, 40, 65, 50, 60, 150]"
      ]
     },
     "execution_count": 117,
     "metadata": {},
     "output_type": "execute_result"
    }
   ],
   "source": [
    "# 4.pop = remove last element =\n",
    "L.pop()\n",
    "L"
   ]
  },
  {
   "cell_type": "code",
   "execution_count": 126,
   "id": "9e3099e5-9466-4d0b-ab80-19ad8191985b",
   "metadata": {},
   "outputs": [
    {
     "data": {
      "text/plain": [
       "[150, 60, 50, 65, 40, 30, 20, 10]"
      ]
     },
     "execution_count": 126,
     "metadata": {},
     "output_type": "execute_result"
    }
   ],
   "source": [
    "# 5. reverse = Reverse the list\n",
    "L.reverse()\n",
    "L"
   ]
  },
  {
   "cell_type": "markdown",
   "id": "00aa7ce4-7740-4c52-9e42-6168f3d2d326",
   "metadata": {},
   "source": [
    "### Q.2]explain about the list and their properties.\n",
    "\n",
    "**Properties**\n",
    "1. ]concatenation\n",
    "2. ]multiplications"
   ]
  },
  {
   "cell_type": "code",
   "execution_count": 132,
   "id": "6d1b4f0f-eb05-4dec-900a-65f40449887f",
   "metadata": {},
   "outputs": [
    {
     "data": {
      "text/plain": [
       "[10, 20, 30, 40, 50]"
      ]
     },
     "execution_count": 132,
     "metadata": {},
     "output_type": "execute_result"
    }
   ],
   "source": [
    "#concatenation\n",
    "[10,20,30] + [40,50]"
   ]
  },
  {
   "cell_type": "code",
   "execution_count": 134,
   "id": "2647632d-99d8-49ed-9d54-d5184e635e01",
   "metadata": {},
   "outputs": [
    {
     "data": {
      "text/plain": [
       "[10, 20, 30, 10, 20, 30, 10, 20, 30]"
      ]
     },
     "execution_count": 134,
     "metadata": {},
     "output_type": "execute_result"
    }
   ],
   "source": [
    "#multiplication\n",
    "[10,20,30]*3"
   ]
  },
  {
   "cell_type": "markdown",
   "id": "71bd8164-4d72-4f18-a0bb-3cfbb2108086",
   "metadata": {},
   "source": [
    "### Q.3]Create an empty list called numbers. Append the numbers 1, 2, and 3 to the list.\n",
    "1. ]Modify the element at index 1 to be 4.\n",
    "2. ]Print the updated list.\n"
   ]
  },
  {
   "cell_type": "code",
   "execution_count": 138,
   "id": "0c25d041-2647-4366-8ab0-f492f483af51",
   "metadata": {},
   "outputs": [
    {
     "data": {
      "text/plain": [
       "[1, 2, 3]"
      ]
     },
     "execution_count": 138,
     "metadata": {},
     "output_type": "execute_result"
    }
   ],
   "source": [
    "number = []\n",
    "number.append(1)\n",
    "number.append(2)\n",
    "number.append(3)\n",
    "number"
   ]
  },
  {
   "cell_type": "code",
   "execution_count": 145,
   "id": "dc247566-f844-43b8-a9e4-0c6fdad4af66",
   "metadata": {},
   "outputs": [
    {
     "data": {
      "text/plain": [
       "[1, 4, 3]"
      ]
     },
     "execution_count": 145,
     "metadata": {},
     "output_type": "execute_result"
    }
   ],
   "source": [
    "#Modify the element at index 1 to be 4.\n",
    "number[1]=4\n",
    "number"
   ]
  },
  {
   "cell_type": "markdown",
   "id": "956e8466-1441-4d97-97a3-6f4eb856988a",
   "metadata": {},
   "source": [
    "### Q.4]Create a list called fruits with elements 'apple', 'banana', 'orange', 'mango', and 'kiwi'.\"\n",
    "1. Create a new list by slicing fruits to include only the citrus fruits ('orange' and 'mango\"\").\n",
    "2. Create a new list called tropical by slicing fruits to include only the tropical fruits (\"banana\" and ‘kiwi').\n",
    "3. Concatenate citrus and tropical lists to create a new list called combined. Print combined.\n"
   ]
  },
  {
   "cell_type": "code",
   "execution_count": 150,
   "id": "b9dd9ad9-385b-4629-9d16-71183d9282c1",
   "metadata": {},
   "outputs": [
    {
     "data": {
      "text/plain": [
       "['apple', 'banana', 'orange', 'mango', 'kiwi']"
      ]
     },
     "execution_count": 150,
     "metadata": {},
     "output_type": "execute_result"
    }
   ],
   "source": [
    "fruits = ['apple', 'banana', 'orange', 'mango','kiwi']\n",
    "fruits"
   ]
  },
  {
   "cell_type": "code",
   "execution_count": 160,
   "id": "dbd9887f-fe6c-46ed-9e5e-dd5feb911962",
   "metadata": {},
   "outputs": [
    {
     "data": {
      "text/plain": [
       "['orange', 'mango']"
      ]
     },
     "execution_count": 160,
     "metadata": {},
     "output_type": "execute_result"
    }
   ],
   "source": [
    "#Create a new list by slicing fruits to include only the citrus fruits ('orange' and 'mango\"\").\n",
    "citrus_fruit = fruits[2:4]\n",
    "citrus_fruit"
   ]
  },
  {
   "cell_type": "code",
   "execution_count": 172,
   "id": "b65a67db-c5b2-49b4-ab13-6c906c49daaf",
   "metadata": {},
   "outputs": [
    {
     "data": {
      "text/plain": [
       "['banana', 'kiwi']"
      ]
     },
     "execution_count": 172,
     "metadata": {},
     "output_type": "execute_result"
    }
   ],
   "source": [
    "#Create a new list called tropical by slicing fruits to include only the tropical fruits (\"banana\" and ‘kiwi').\n",
    "tropical_fruits = [fruits[1],fruits[-1]]\n",
    "tropical_fruits"
   ]
  },
  {
   "cell_type": "code",
   "execution_count": 175,
   "id": "dbf0a024-4ded-443c-9eaf-c4a33d17fa3f",
   "metadata": {},
   "outputs": [
    {
     "name": "stdout",
     "output_type": "stream",
     "text": [
      "[['orange', 'mango', 'banana', 'kiwi']]\n"
     ]
    }
   ],
   "source": [
    "#Concatenate citrus and tropical lists to create a new list called combined. Print combined.\n",
    "combine = [citrus_fruit + tropical_fruits]\n",
    "print(combine)"
   ]
  },
  {
   "cell_type": "markdown",
   "id": "c25d0dda-39a7-4230-a6e7-c5c8262dd770",
   "metadata": {},
   "source": [
    "### Q.5]Create a list called colors with repeated elements 'red', 'blue', 'red', 'green', 'red'.\n",
    "1. Print the number of occurrences of 'red' in the list.\n",
    "2. Remove all occurrences of 'red' from the list.\n",
    "3. Print the updated list.\"\n"
   ]
  },
  {
   "cell_type": "code",
   "execution_count": 282,
   "id": "7d860f3a-4d8f-432c-9b9e-34143ce6f44f",
   "metadata": {},
   "outputs": [
    {
     "data": {
      "text/plain": [
       "['red', 'blue', 'red', 'green', 'red']"
      ]
     },
     "execution_count": 282,
     "metadata": {},
     "output_type": "execute_result"
    }
   ],
   "source": [
    "colors = ['red', 'blue', 'red', 'green', 'red']\n",
    "colors"
   ]
  },
  {
   "cell_type": "code",
   "execution_count": 284,
   "id": "7312d382-b521-4b9a-b3e2-e4a758b95a35",
   "metadata": {},
   "outputs": [
    {
     "data": {
      "text/plain": [
       "3"
      ]
     },
     "execution_count": 284,
     "metadata": {},
     "output_type": "execute_result"
    }
   ],
   "source": [
    "#Print the number of occurrences of 'red' in the list.\n",
    "colors.count('red')"
   ]
  },
  {
   "cell_type": "code",
   "execution_count": 286,
   "id": "6e79c0e1-7e81-489a-bc7e-453928c74731",
   "metadata": {},
   "outputs": [
    {
     "data": {
      "text/plain": [
       "'red'"
      ]
     },
     "execution_count": 286,
     "metadata": {},
     "output_type": "execute_result"
    }
   ],
   "source": [
    "#Remove all occurrences of 'red' from the list.\n",
    "colors.pop(0)"
   ]
  },
  {
   "cell_type": "code",
   "execution_count": 288,
   "id": "a24d874e-ce8f-4508-96f2-eaca1e69bb7d",
   "metadata": {},
   "outputs": [
    {
     "data": {
      "text/plain": [
       "'red'"
      ]
     },
     "execution_count": 288,
     "metadata": {},
     "output_type": "execute_result"
    }
   ],
   "source": [
    "colors.pop(1)"
   ]
  },
  {
   "cell_type": "code",
   "execution_count": 290,
   "id": "29fe97e0-6922-4e22-8812-5ad4dfa61a3a",
   "metadata": {},
   "outputs": [
    {
     "data": {
      "text/plain": [
       "'red'"
      ]
     },
     "execution_count": 290,
     "metadata": {},
     "output_type": "execute_result"
    }
   ],
   "source": [
    "colors.pop(2)"
   ]
  },
  {
   "cell_type": "code",
   "execution_count": 293,
   "id": "b3a5634a-fb97-4e19-b775-68f5ed371079",
   "metadata": {},
   "outputs": [
    {
     "data": {
      "text/plain": [
       "['blue', 'green']"
      ]
     },
     "execution_count": 293,
     "metadata": {},
     "output_type": "execute_result"
    }
   ],
   "source": [
    "#Print the updated list.\n",
    "colors"
   ]
  },
  {
   "cell_type": "markdown",
   "id": "8ddea800-16ea-4df4-a1a4-8b8dcf2e11c6",
   "metadata": {},
   "source": [
    "### Q.6]Create a list called groceries with initial items: 'bread', 'milk', 'eggs', 'butter'.\n",
    "1. Add 'cheese' to the end of the list.\n",
    "2. Remove 'milk' from the list.\n",
    "3. Print the final list of groceries.\"\n",
    "4. Insert 'yogurt' at index 1\n"
   ]
  },
  {
   "cell_type": "code",
   "execution_count": 300,
   "id": "47dfff5c-0732-4764-a28d-6cdb4eb2615e",
   "metadata": {},
   "outputs": [
    {
     "data": {
      "text/plain": [
       "['bread', 'milk', 'eggs', 'butter']"
      ]
     },
     "execution_count": 300,
     "metadata": {},
     "output_type": "execute_result"
    }
   ],
   "source": [
    "groceries = ['bread', 'milk', 'eggs', 'butter']\n",
    "groceries"
   ]
  },
  {
   "cell_type": "code",
   "execution_count": 304,
   "id": "ada9885d-3700-4e44-be14-4de67316f71f",
   "metadata": {},
   "outputs": [
    {
     "data": {
      "text/plain": [
       "['bread', 'milk', 'eggs', 'butter', 'cheese']"
      ]
     },
     "execution_count": 304,
     "metadata": {},
     "output_type": "execute_result"
    }
   ],
   "source": [
    "#Add 'cheese' to the end of the list.\n",
    "groceries.append('cheese')\n",
    "groceries"
   ]
  },
  {
   "cell_type": "code",
   "execution_count": 306,
   "id": "dfa7d0f5-687a-4d94-8c02-9dcfebc1814a",
   "metadata": {},
   "outputs": [
    {
     "data": {
      "text/plain": [
       "['bread', 'eggs', 'butter', 'cheese']"
      ]
     },
     "execution_count": 306,
     "metadata": {},
     "output_type": "execute_result"
    }
   ],
   "source": [
    "#Remove 'milk' from the list.\n",
    "groceries.pop(1)\n",
    "groceries"
   ]
  },
  {
   "cell_type": "code",
   "execution_count": 308,
   "id": "05d7519d-f4a5-4b1b-ac7a-8a0055f2e6e8",
   "metadata": {},
   "outputs": [
    {
     "data": {
      "text/plain": [
       "['bread', 'eggs', 'butter', 'cheese']"
      ]
     },
     "execution_count": 308,
     "metadata": {},
     "output_type": "execute_result"
    }
   ],
   "source": [
    "#Print the final list of groceries.\n",
    "groceries"
   ]
  },
  {
   "cell_type": "code",
   "execution_count": 316,
   "id": "82096730-c0f6-4ecb-8ebc-f37a2f377d72",
   "metadata": {},
   "outputs": [
    {
     "data": {
      "text/plain": [
       "['bread', 'yogurt', 'eggs', 'butter', 'cheese']"
      ]
     },
     "execution_count": 316,
     "metadata": {},
     "output_type": "execute_result"
    }
   ],
   "source": [
    "#Insert 'yogurt' at index 1\n",
    "groceries.insert(1,'yogurt')\n",
    "groceries"
   ]
  },
  {
   "cell_type": "code",
   "execution_count": null,
   "id": "f4546457-93ef-4b90-9b97-b80d9240c760",
   "metadata": {},
   "outputs": [],
   "source": []
  }
 ],
 "metadata": {
  "kernelspec": {
   "display_name": "Python [conda env:base] *",
   "language": "python",
   "name": "conda-base-py"
  },
  "language_info": {
   "codemirror_mode": {
    "name": "ipython",
    "version": 3
   },
   "file_extension": ".py",
   "mimetype": "text/x-python",
   "name": "python",
   "nbconvert_exporter": "python",
   "pygments_lexer": "ipython3",
   "version": "3.12.7"
  }
 },
 "nbformat": 4,
 "nbformat_minor": 5
}
