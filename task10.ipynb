{
 "cells": [
  {
   "cell_type": "markdown",
   "id": "e402729c-f595-4ebf-bba4-a61dfb10f5b0",
   "metadata": {},
   "source": [
    "# Write a function to get the maximum of 3 numbers."
   ]
  },
  {
   "cell_type": "code",
   "execution_count": 2,
   "id": "c84c4269-b0e3-4473-aa07-bcf074898cba",
   "metadata": {},
   "outputs": [
    {
     "name": "stdout",
     "output_type": "stream",
     "text": [
      "Maximum of 1, 2, 3: 3\n"
     ]
    }
   ],
   "source": [
    "def find_max(a, b, c):\n",
    "    max_num = a\n",
    "    if b > max_num:\n",
    "        max_num = b\n",
    "    if c > max_num:\n",
    "        max_num = c\n",
    "    return max_num\n",
    "print(\"Maximum of 1, 2, 3:\", find_max(1, 2, 3))      "
   ]
  },
  {
   "cell_type": "markdown",
   "id": "f586ec00-09bf-45c1-b66d-b0428f7d9143",
   "metadata": {},
   "source": [
    "# 2)Write a function to check if the given number if even or not"
   ]
  },
  {
   "cell_type": "code",
   "execution_count": 6,
   "id": "3fbc945e-bbd8-48fb-8734-f94bfedfd683",
   "metadata": {},
   "outputs": [
    {
     "data": {
      "text/plain": [
       "(10, 'even')"
      ]
     },
     "execution_count": 6,
     "metadata": {},
     "output_type": "execute_result"
    }
   ],
   "source": [
    "def is_even(n):\n",
    "    if n % 2 == 0:\n",
    "        return n,\"even\"\n",
    "    else:\n",
    "        return 'odd'\n",
    "\n",
    "is_even(10)"
   ]
  },
  {
   "cell_type": "markdown",
   "id": "f1ce7f24-8a28-468d-9c5a-358842351cf7",
   "metadata": {},
   "source": [
    "# 3)Write a program to get the sum of all the values in given list,\n",
    "# Example: \n",
    "       my_sum([1,2,3,4,5]), then o/p: 15 \n",
    "       my_sum([10,11,12]), then o/p: 33"
   ]
  },
  {
   "cell_type": "code",
   "execution_count": 24,
   "id": "3d1b4684-6b22-4c33-af70-933b24a01a61",
   "metadata": {},
   "outputs": [
    {
     "name": "stdout",
     "output_type": "stream",
     "text": [
      "15\n"
     ]
    }
   ],
   "source": [
    "my_sum=[1,2,3,4,5]\n",
    "def sum_value(my_sum):\n",
    "    sum=0\n",
    "    for i in my_sum:\n",
    "        sum=sum+i\n",
    "    print(sum)\n",
    "sum_value(my_sum)"
   ]
  },
  {
   "cell_type": "markdown",
   "id": "2c66a19f-8521-4b8d-bec0-cf9dcc3c5637",
   "metadata": {},
   "source": [
    "# 4)Construct your own function my_range() which acts as range() to print numbers in forward direction (step is positive) and backward direction(step is negative) with given start,stop and step as parameters.\n",
    "* eg: my_range(1,10,1), then o/p= 1,2,3,4,5,6,7,8,9 \n",
    "* my_range(1,10,2), then o/p= 1,3,5,7,9 \n",
    "* my_range(10,1,-1), then o/p = 10,9,8,7,6,5,4,3,2 \n",
    "* my_range(10,1,-2), then o/p = 10,8,6,4,2"
   ]
  },
  {
   "cell_type": "code",
   "execution_count": 27,
   "id": "0c3477ac-6e94-459b-aaeb-91e87b33dcfa",
   "metadata": {},
   "outputs": [
    {
     "name": "stdout",
     "output_type": "stream",
     "text": [
      "1,2,3,4,5,6,7,8,9,\n",
      "1,3,5,7,9,\n",
      "10,9,8,7,6,5,4,3,2,\n",
      "10,8,6,4,2,\n"
     ]
    }
   ],
   "source": [
    "def my_range(start, stop, step):\n",
    "  if step > 0:\n",
    "    while start < stop:\n",
    "      print(start, end=\",\")\n",
    "      start += step\n",
    "  else:\n",
    "    while start > stop:\n",
    "      print(start, end=\",\")\n",
    "      start += step\n",
    "  print()  \n",
    "my_range(1, 10, 1)\n",
    "my_range(1, 10, 2)\n",
    "my_range(10, 1, -1)\n",
    "my_range(10, 1, -2)\n"
   ]
  },
  {
   "cell_type": "markdown",
   "id": "2575b35b-c07e-478e-b5f4-d73ac39be0ef",
   "metadata": {},
   "source": [
    "# 5)Multiply numbers with given start and stop (using loops)\n",
    "*  Example: start=1, stop= 5, then o/p: 120 \n",
    "*  start=3, stop=5, then o/p: 60"
   ]
  },
  {
   "cell_type": "code",
   "execution_count": 29,
   "id": "e5684a84-a86a-4499-8a4a-6a7e7eb148a1",
   "metadata": {},
   "outputs": [
    {
     "name": "stdout",
     "output_type": "stream",
     "text": [
      "120\n",
      "60\n"
     ]
    }
   ],
   "source": [
    "def multiply_range(start, stop):\n",
    "    result = 1\n",
    "    for num in range(start, stop + 1):\n",
    "        result *= num\n",
    "    return result\n",
    "\n",
    "print(multiply_range(1, 5))  \n",
    "print(multiply_range(3, 5))  "
   ]
  },
  {
   "cell_type": "raw",
   "id": "74c3ad9b-b7c5-4702-95cf-e420bb6c4a06",
   "metadata": {},
   "source": [
    "6)Construct a function for fibonacci series(fib()) using\n",
    "a.loops \n",
    "b.recursion \n",
    "Expected o/p : \n",
    "fib(5), then o/p= 0 1 1 2 3 \n",
    "fib(7), then o/p= 0 1 1 2 3 5 8"
   ]
  },
  {
   "cell_type": "code",
   "execution_count": 33,
   "id": "0f1ba447-8490-4f7f-948e-865955c77080",
   "metadata": {},
   "outputs": [
    {
     "name": "stdout",
     "output_type": "stream",
     "text": [
      "fib(5):\n",
      "0 1 1 2 3 \n",
      "fib(7):\n",
      "0 1 1 2 3 5 8 "
     ]
    }
   ],
   "source": [
    "def fib(n):\n",
    "    a, b = 0, 1\n",
    "    if n >= 1:\n",
    "        print(a, end=\" \")\n",
    "    if n >= 2:\n",
    "        print(b, end=\" \")\n",
    "    \n",
    "    for i in range(2, n):\n",
    "        c = a + b\n",
    "        print(c, end=\" \")\n",
    "        a, b = b, c\n",
    "\n",
    "print(\"fib(5):\")\n",
    "fib(5)\n",
    "print(\"\\nfib(7):\")\n",
    "fib(7)"
   ]
  },
  {
   "cell_type": "markdown",
   "id": "6e107b91-139a-4b89-aedd-1c07e9303ca5",
   "metadata": {},
   "source": [
    "# 7)Create a Factorial with loops."
   ]
  },
  {
   "cell_type": "code",
   "execution_count": 35,
   "id": "a75debd9-3059-4ebc-9556-d6b85b1bea8a",
   "metadata": {},
   "outputs": [
    {
     "name": "stdout",
     "output_type": "stream",
     "text": [
      "Factorial of 0: 1\n",
      "Factorial of 1: 1\n",
      "Factorial of 5: 120\n",
      "Factorial of 7: 5040\n",
      "Factorial of -1: Factorial is not defined for negative numbers\n"
     ]
    }
   ],
   "source": [
    "def factorial(n):\n",
    "    \n",
    "    if n < 0:\n",
    "        return \"Factorial is not defined for negative numbers\"\n",
    "    if n == 0 or n == 1:\n",
    "        return 1\n",
    "        \n",
    "    result = 1\n",
    "    for i in range(2, n + 1):\n",
    "        result *= i\n",
    "    \n",
    "    return result\n",
    "print(\"Factorial of 0:\", factorial(0))  \n",
    "print(\"Factorial of 1:\", factorial(1))  \n",
    "print(\"Factorial of 5:\", factorial(5))  \n",
    "print(\"Factorial of 7:\", factorial(7))  \n",
    "print(\"Factorial of -1:\", factorial(-1))  "
   ]
  },
  {
   "cell_type": "code",
   "execution_count": null,
   "id": "eece7e1d-b1d9-4526-a21c-95a9a1557a4e",
   "metadata": {},
   "outputs": [],
   "source": [
    "8)"
   ]
  },
  {
   "cell_type": "code",
   "execution_count": 45,
   "id": "da6b87e8-6c60-4cb1-99d5-3e8ad77e79bf",
   "metadata": {},
   "outputs": [
    {
     "name": "stdout",
     "output_type": "stream",
     "text": [
      "\n",
      "* \n",
      "* * \n",
      "* * * \n",
      "* * * * \n",
      "* * * * * \n"
     ]
    }
   ],
   "source": [
    "for j in range(6):\n",
    "    for i in range(j): \n",
    "        print('*',end=' ')\n",
    "    print()"
   ]
  },
  {
   "cell_type": "code",
   "execution_count": 65,
   "id": "845cfe59-a332-45ef-a0cf-1566ee7085bd",
   "metadata": {},
   "outputs": [],
   "source": [
    "# 9)"
   ]
  },
  {
   "cell_type": "code",
   "execution_count": 67,
   "id": "43e7897a-292a-453a-bfc8-e0a75b2c32c8",
   "metadata": {},
   "outputs": [
    {
     "name": "stdout",
     "output_type": "stream",
     "text": [
      "5 5 5 5 5 \n",
      "4 4 4 4 4 \n",
      "3 3 3 3 3 \n",
      "2 2 2 2 2 \n",
      "1 1 1 1 1 \n"
     ]
    }
   ],
   "source": [
    "rows = 5\n",
    "for i in range(rows, 0, -1):\n",
    "    print((str(i) + \" \") * rows)"
   ]
  },
  {
   "cell_type": "code",
   "execution_count": null,
   "id": "854d296c-fa21-482d-9759-a4c283f36f41",
   "metadata": {},
   "outputs": [],
   "source": []
  }
 ],
 "metadata": {
  "kernelspec": {
   "display_name": "Python [conda env:base] *",
   "language": "python",
   "name": "conda-base-py"
  },
  "language_info": {
   "codemirror_mode": {
    "name": "ipython",
    "version": 3
   },
   "file_extension": ".py",
   "mimetype": "text/x-python",
   "name": "python",
   "nbconvert_exporter": "python",
   "pygments_lexer": "ipython3",
   "version": "3.12.7"
  }
 },
 "nbformat": 4,
 "nbformat_minor": 5
}
