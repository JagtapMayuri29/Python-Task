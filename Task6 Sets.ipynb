{
 "cells": [
  {
   "cell_type": "markdown",
   "id": "8da3277d-498d-4ec3-99e6-2c5532091242",
   "metadata": {},
   "source": [
    "### Task-6 Sets"
   ]
  },
  {
   "cell_type": "markdown",
   "id": "c546c7e1-4749-4b3d-83e8-d5c4c69dcf97",
   "metadata": {},
   "source": [
    "### Q.1]Set Creation Create a Python set containing the first 10 even numbers {2, 4, 6,8,10}. Write a program to display this set.\"\n"
   ]
  },
  {
   "cell_type": "code",
   "execution_count": 8,
   "id": "b287cf4c-da63-418b-8723-7fa98be714bb",
   "metadata": {},
   "outputs": [
    {
     "name": "stdout",
     "output_type": "stream",
     "text": [
      "{2, 4, 6, 8, 10, 12, 14, 16, 18, 20}\n"
     ]
    }
   ],
   "source": [
    "S = {2,4,6,8,10,12,14,16,18,20}\n",
    "print(S)"
   ]
  },
  {
   "cell_type": "markdown",
   "id": "5badcf79-c657-491a-93bb-84a9c15c7d0a",
   "metadata": {},
   "source": [
    "### Q.2]Set Operations Given two sets, write a Python program to find the union, intersection, and difference of these sets.\"\n"
   ]
  },
  {
   "cell_type": "code",
   "execution_count": 14,
   "id": "01b79334-d0da-4f23-adc2-dfaee8ea168e",
   "metadata": {},
   "outputs": [],
   "source": [
    "Set1 = {10,20,30,40}\n",
    "Set2 = {20,30,40,50}"
   ]
  },
  {
   "cell_type": "code",
   "execution_count": 16,
   "id": "54d43102-b587-40e7-8952-dd38bef54e52",
   "metadata": {},
   "outputs": [
    {
     "data": {
      "text/plain": [
       "{10, 20, 30, 40, 50}"
      ]
     },
     "execution_count": 16,
     "metadata": {},
     "output_type": "execute_result"
    }
   ],
   "source": [
    "#union \n",
    "Set1.union(Set2)"
   ]
  },
  {
   "cell_type": "code",
   "execution_count": 18,
   "id": "878a1553-93da-4281-b676-d26a80f560ab",
   "metadata": {},
   "outputs": [
    {
     "data": {
      "text/plain": [
       "{20, 30, 40}"
      ]
     },
     "execution_count": 18,
     "metadata": {},
     "output_type": "execute_result"
    }
   ],
   "source": [
    "#Intersection\n",
    "Set1.intersection(Set2)"
   ]
  },
  {
   "cell_type": "code",
   "execution_count": 22,
   "id": "722a2cf8-e7ae-4715-9b13-8e26d848d14a",
   "metadata": {},
   "outputs": [
    {
     "data": {
      "text/plain": [
       "{10}"
      ]
     },
     "execution_count": 22,
     "metadata": {},
     "output_type": "execute_result"
    }
   ],
   "source": [
    "#Difference\n",
    "Set1.difference(Set2)"
   ]
  },
  {
   "cell_type": "code",
   "execution_count": 24,
   "id": "1c8cd14b-247a-4eb0-8111-47c7cef0fcd4",
   "metadata": {},
   "outputs": [
    {
     "data": {
      "text/plain": [
       "{50}"
      ]
     },
     "execution_count": 24,
     "metadata": {},
     "output_type": "execute_result"
    }
   ],
   "source": [
    "Set2.difference(Set1)"
   ]
  },
  {
   "cell_type": "markdown",
   "id": "8fa7edd5-f503-48fe-808a-6b66ee53338d",
   "metadata": {},
   "source": [
    "### Q.3]Set Operations and Methods Write a Python program that takes a set of numbers and performs the following operations:\n",
    "1. Add a new number to the set.\n",
    "2. Remove a number from the set.\n",
    "3. Check if a specific number is in the set.\n",
    "4. Find the size of the set.\n"
   ]
  },
  {
   "cell_type": "code",
   "execution_count": 29,
   "id": "01dd3f05-f4d0-4632-aa0b-70025fad6457",
   "metadata": {},
   "outputs": [
    {
     "data": {
      "text/plain": [
       "{10, 15, 20, 24, 25, 26, 28, 30, 32, 34, 36, 40}"
      ]
     },
     "execution_count": 29,
     "metadata": {},
     "output_type": "execute_result"
    }
   ],
   "source": [
    "S = {10,15,20,20,24,25,26,26,28,30,32,34,36,40}\n",
    "S"
   ]
  },
  {
   "cell_type": "markdown",
   "id": "d99b0a2f-274f-4dfe-8362-647b0c4bf8f5",
   "metadata": {},
   "source": [
    "**1. Add a new number to the set.**"
   ]
  },
  {
   "cell_type": "code",
   "execution_count": 34,
   "id": "212e2089-04aa-4511-85fd-a175dc7b12cb",
   "metadata": {},
   "outputs": [
    {
     "data": {
      "text/plain": [
       "{10, 15, 20, 24, 25, 26, 28, 30, 32, 34, 36, 40, 45}"
      ]
     },
     "execution_count": 34,
     "metadata": {},
     "output_type": "execute_result"
    }
   ],
   "source": [
    "S.add(45)\n",
    "S"
   ]
  },
  {
   "cell_type": "markdown",
   "id": "741e2026-696d-410a-96f6-e4a2aa8f0cdb",
   "metadata": {},
   "source": [
    "**2. Remove a number from the set.**"
   ]
  },
  {
   "cell_type": "code",
   "execution_count": 39,
   "id": "81708f03-89e3-4d80-a667-501a7dd5e8d7",
   "metadata": {},
   "outputs": [
    {
     "data": {
      "text/plain": [
       "{10, 15, 20, 24, 25, 26, 28, 30, 32, 34, 36, 45}"
      ]
     },
     "execution_count": 39,
     "metadata": {},
     "output_type": "execute_result"
    }
   ],
   "source": [
    "S.remove(40)\n",
    "S"
   ]
  },
  {
   "cell_type": "markdown",
   "id": "eea40e5c-3bcb-42bb-b8b2-66ad92e3d260",
   "metadata": {},
   "source": [
    "**3. Check if a specific number is in the set.**"
   ]
  },
  {
   "cell_type": "code",
   "execution_count": 53,
   "id": "35514bfa-4f7f-4292-8dd6-a73ecda00075",
   "metadata": {},
   "outputs": [
    {
     "data": {
      "text/plain": [
       "False"
      ]
     },
     "execution_count": 53,
     "metadata": {},
     "output_type": "execute_result"
    }
   ],
   "source": [
    "27 in S\n",
    "  "
   ]
  },
  {
   "cell_type": "markdown",
   "id": "dcd58bc3-4461-4a76-8a19-8d7abef5c14e",
   "metadata": {},
   "source": [
    "**4. Find the size of the set**"
   ]
  },
  {
   "cell_type": "code",
   "execution_count": 68,
   "id": "30fbc2d1-1b95-457a-bdbe-22615d1ed47b",
   "metadata": {},
   "outputs": [
    {
     "data": {
      "text/plain": [
       "{10, 15, 20, 24, 25, 26, 28, 30, 32, 34, 36, 40}"
      ]
     },
     "execution_count": 68,
     "metadata": {},
     "output_type": "execute_result"
    }
   ],
   "source": [
    "S = {10,15,20,20,24,25,26,26,28,30,32,34,36,40}\n",
    "S"
   ]
  },
  {
   "cell_type": "code",
   "execution_count": 70,
   "id": "5d4de0ed-d0b2-4599-898b-250b5aa46514",
   "metadata": {},
   "outputs": [
    {
     "data": {
      "text/plain": [
       "12"
      ]
     },
     "execution_count": 70,
     "metadata": {},
     "output_type": "execute_result"
    }
   ],
   "source": [
    "len(S)"
   ]
  },
  {
   "cell_type": "markdown",
   "id": "5d3cd981-0011-4416-abb4-49b8af57336d",
   "metadata": {},
   "source": [
    "### Q.4]Set Operations with Lists Create a Python list with duplicate elements and convert it into a set to remove duplicates. Then, write a program to count how many duplicates were removed."
   ]
  },
  {
   "cell_type": "code",
   "execution_count": 74,
   "id": "b3b5a9f0-b6dc-466b-b25f-b99685e79372",
   "metadata": {},
   "outputs": [
    {
     "data": {
      "text/plain": [
       "[10, 10, 20, 25, 30, 30, 45, 40, 55, 55, 50]"
      ]
     },
     "execution_count": 74,
     "metadata": {},
     "output_type": "execute_result"
    }
   ],
   "source": [
    "#Create a Python list with duplicate elements\n",
    "List = [10,10,20,25,30,30,45,40,55,55,50]\n",
    "List"
   ]
  },
  {
   "cell_type": "code",
   "execution_count": 97,
   "id": "b4f3200a-61ed-435d-9787-24931b378892",
   "metadata": {},
   "outputs": [
    {
     "data": {
      "text/plain": [
       "11"
      ]
     },
     "execution_count": 97,
     "metadata": {},
     "output_type": "execute_result"
    }
   ],
   "source": [
    "len(List)"
   ]
  },
  {
   "cell_type": "code",
   "execution_count": 89,
   "id": "531acc27-d575-406f-96b4-f6ff50b71330",
   "metadata": {},
   "outputs": [
    {
     "data": {
      "text/plain": [
       "{10, 20, 25, 30, 40, 45, 50, 55}"
      ]
     },
     "execution_count": 89,
     "metadata": {},
     "output_type": "execute_result"
    }
   ],
   "source": [
    "#convert it into a set to remove duplicates\n",
    "Set = set(List)\n",
    "Set"
   ]
  },
  {
   "cell_type": "code",
   "execution_count": 99,
   "id": "fe61504e-924a-48ff-bba4-7151505042b1",
   "metadata": {},
   "outputs": [
    {
     "data": {
      "text/plain": [
       "8"
      ]
     },
     "execution_count": 99,
     "metadata": {},
     "output_type": "execute_result"
    }
   ],
   "source": [
    "len(Set)"
   ]
  },
  {
   "cell_type": "code",
   "execution_count": 103,
   "id": "4b28aac6-1ed4-4db6-9304-7cd7114f37a1",
   "metadata": {},
   "outputs": [
    {
     "data": {
      "text/plain": [
       "3"
      ]
     },
     "execution_count": 103,
     "metadata": {},
     "output_type": "execute_result"
    }
   ],
   "source": [
    "#write a program to count how many duplicates were removed.\n",
    "duplicate_removed = len(List) - len(Set)\n",
    "duplicate_removed"
   ]
  },
  {
   "cell_type": "markdown",
   "id": "20475747-6b1c-44e1-825c-49a8c2d779b6",
   "metadata": {},
   "source": [
    "### Q.5]Explain the concept of Sets and their properties in Python. Provide a one-line definition of each set method with examples.\n",
    "\n",
    "1. set is unordered data structure\n",
    "2. sets have only unique values\n",
    "3. sets need same data type in its declaration\n",
    "4. Set items are unordered, unchangeable, and do not allow duplicate values.\n",
    "5. It is defined using curly braces {}.\n"
   ]
  },
  {
   "cell_type": "code",
   "execution_count": 108,
   "id": "74062ab8-221c-4563-b6a0-aceb1774a5b4",
   "metadata": {},
   "outputs": [
    {
     "data": {
      "text/plain": [
       "{1, 2, 5, 10, 20, 30, 40, 50, 90, 100}"
      ]
     },
     "execution_count": 108,
     "metadata": {},
     "output_type": "execute_result"
    }
   ],
   "source": [
    "S = {2,40,30,1,5,90,10,100, 30,40,50,20}\n",
    "S"
   ]
  },
  {
   "cell_type": "markdown",
   "id": "d18a63bb-1791-4e81-820e-f51266106cc0",
   "metadata": {},
   "source": [
    "**Properties:**\n",
    "1. Unordered = Unordered means that the items in a set do not have a defined order.\n",
    "2. Unchangeable = Set items are unchangeable, meaning that we cannot change the items after the set has been created.\n",
    "3. Duplicates Not Allowed = Sets cannot have two items with the same value.\n",
    "4. Mutable = We can add or remove elements.\n",
    "\n",
    "   **Examples**"
   ]
  },
  {
   "cell_type": "code",
   "execution_count": 116,
   "id": "21cfa29c-8355-4943-b767-7df961975076",
   "metadata": {},
   "outputs": [
    {
     "data": {
      "text/plain": [
       "{1, 2, 4, 5, 6, 8}"
      ]
     },
     "execution_count": 116,
     "metadata": {},
     "output_type": "execute_result"
    }
   ],
   "source": [
    "#unordered \n",
    "S = {4,6,2,1,5,8}\n",
    "S"
   ]
  },
  {
   "cell_type": "code",
   "execution_count": 153,
   "id": "316c4ed3-6f56-4ed0-a50e-cd2c9351b8ef",
   "metadata": {},
   "outputs": [
    {
     "data": {
      "text/plain": [
       "{1, 2, 3, 4}"
      ]
     },
     "execution_count": 153,
     "metadata": {},
     "output_type": "execute_result"
    }
   ],
   "source": [
    "#Duplicates Not Allowed\n",
    "Set = {1,1,2,2,3,4}\n",
    "Set"
   ]
  },
  {
   "cell_type": "code",
   "execution_count": 155,
   "id": "22d199f4-b5f2-45d0-bfff-92a046247615",
   "metadata": {},
   "outputs": [
    {
     "data": {
      "text/plain": [
       "{1, 2, 3, 4, 6}"
      ]
     },
     "execution_count": 155,
     "metadata": {},
     "output_type": "execute_result"
    }
   ],
   "source": [
    "#mutable\n",
    "Set.add(6)\n",
    "Set"
   ]
  }
 ],
 "metadata": {
  "kernelspec": {
   "display_name": "Python [conda env:base] *",
   "language": "python",
   "name": "conda-base-py"
  },
  "language_info": {
   "codemirror_mode": {
    "name": "ipython",
    "version": 3
   },
   "file_extension": ".py",
   "mimetype": "text/x-python",
   "name": "python",
   "nbconvert_exporter": "python",
   "pygments_lexer": "ipython3",
   "version": "3.12.7"
  }
 },
 "nbformat": 4,
 "nbformat_minor": 5
}
